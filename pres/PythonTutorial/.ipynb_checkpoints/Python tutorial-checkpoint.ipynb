{
 "cells": [
  {
   "cell_type": "markdown",
   "metadata": {
    "slideshow": {
     "slide_type": "slide"
    }
   },
   "source": [
    "# Python for data analysis\n",
    "## A fun-filled tutorial on data scraping, munging, analysis, and visualization with Pandas"
   ]
  },
  {
   "cell_type": "markdown",
   "metadata": {
    "slideshow": {
     "slide_type": "slide"
    }
   },
   "source": [
    "# But seriously, why Python?"
   ]
  },
  {
   "cell_type": "markdown",
   "metadata": {
    "slideshow": {
     "slide_type": "fragment"
    }
   },
   "source": [
    " - An interpreted language with clean, readable, concise code"
   ]
  },
  {
   "cell_type": "markdown",
   "metadata": {
    "slideshow": {
     "slide_type": "fragment"
    }
   },
   "source": [
    " - Multiplaform, and supports various programming paradigms"
   ]
  },
  {
   "cell_type": "markdown",
   "metadata": {
    "slideshow": {
     "slide_type": "fragment"
    }
   },
   "source": [
    "- An integrated pipeline for all phases of data collection, processing, and analysis"
   ]
  },
  {
   "cell_type": "markdown",
   "metadata": {
    "slideshow": {
     "slide_type": "fragment"
    }
   },
   "source": [
    "- An extensive standard library, plus massive repositories of packages for just about anything you can think of (with easy-to-use tools for managing them)"
   ]
  },
  {
   "cell_type": "markdown",
   "metadata": {
    "slideshow": {
     "slide_type": "fragment"
    }
   },
   "source": [
    " - Open source, with a highly active development community"
   ]
  },
  {
   "cell_type": "markdown",
   "metadata": {
    "slideshow": {
     "slide_type": "subslide"
    }
   },
   "source": [
    "<img src=\"img/stackoverflow.png\">"
   ]
  },
  {
   "cell_type": "markdown",
   "metadata": {
    "slideshow": {
     "slide_type": "subslide"
    }
   },
   "source": [
    "## And don't forget the Jupyter (née IPython)  notebook"
   ]
  },
  {
   "cell_type": "markdown",
   "metadata": {
    "slideshow": {
     "slide_type": "fragment"
    }
   },
   "source": [
    " - Code and results in an integrated interface"
   ]
  },
  {
   "cell_type": "markdown",
   "metadata": {
    "slideshow": {
     "slide_type": "fragment"
    }
   },
   "source": [
    " - Easily save and share ad-hoc analyses"
   ]
  },
  {
   "cell_type": "markdown",
   "metadata": {
    "slideshow": {
     "slide_type": "fragment"
    }
   },
   "source": [
    " - Export in a variety of formats..."
   ]
  },
  {
   "cell_type": "markdown",
   "metadata": {
    "slideshow": {
     "slide_type": "fragment"
    }
   },
   "source": [
    " - ...even as slides!"
   ]
  },
  {
   "cell_type": "markdown",
   "metadata": {
    "slideshow": {
     "slide_type": "subslide"
    }
   },
   "source": [
    "Click [here](https://jupyter.org/index.html) for the Jupyter homepage\n",
    "<img src=\"img/jupyter.png\">"
   ]
  },
  {
   "cell_type": "markdown",
   "metadata": {
    "slideshow": {
     "slide_type": "slide"
    }
   },
   "source": [
    "## Let's get some data!"
   ]
  },
  {
   "cell_type": "code",
   "execution_count": 2,
   "metadata": {
    "collapsed": true,
    "slideshow": {
     "slide_type": "fragment"
    }
   },
   "outputs": [],
   "source": [
    "import pandas as pd\n",
    "import numpy as np\n",
    "from matplotlib import pyplot as plt\n",
    "%matplotlib inline\n",
    "from IPython.core.display import display"
   ]
  },
  {
   "cell_type": "code",
   "execution_count": 3,
   "metadata": {
    "collapsed": false,
    "slideshow": {
     "slide_type": "fragment"
    }
   },
   "outputs": [],
   "source": [
    "data = pd.read_table('mylistening.txt',header=None,\n",
    "    names=['user_id','item_id','artist_id','timestamp'],parse_dates=['timestamp'])"
   ]
  },
  {
   "cell_type": "markdown",
   "metadata": {
    "slideshow": {
     "slide_type": "fragment"
    }
   },
   "source": [
    "### But there are lots of other ways to get data into Python..."
   ]
  },
  {
   "cell_type": "markdown",
   "metadata": {
    "slideshow": {
     "slide_type": "subslide"
    }
   },
   "source": [
    "### Read from a database"
   ]
  },
  {
   "cell_type": "code",
   "execution_count": 4,
   "metadata": {
    "collapsed": false,
    "slideshow": {
     "slide_type": "fragment"
    }
   },
   "outputs": [],
   "source": [
    "# import MySQLdb\n",
    "# db=MySQLdb.connect(host='rdc04.uits.iu.edu',port=XXXX,user=XXXX,passwd=XXX,db='analysis_lastfm')\n",
    "# cursor = db.cursor()\n",
    "# cursor.execute(\"SELECT column_a, column_b,c olumn_c FROM some_table\")\n",
    "# result = cursor.fetchall()"
   ]
  },
  {
   "cell_type": "markdown",
   "metadata": {
    "slideshow": {
     "slide_type": "subslide"
    }
   },
   "source": [
    "### scrape data from the web!\n"
   ]
  },
  {
   "cell_type": "markdown",
   "metadata": {
    "collapsed": false,
    "slideshow": {
     "slide_type": "fragment"
    }
   },
   "source": [
    "- roll your own with urllib2, BeautifulSoup, lxml, etc.\n",
    "- lots of prebuilt, custom libraries for pulling data from APIs (e.g. PyLast, musicbrainzngs, ...)\n"
   ]
  },
  {
   "cell_type": "markdown",
   "metadata": {
    "slideshow": {
     "slide_type": "subslide"
    }
   },
   "source": [
    "### Use Mechanical Turk!\n"
   ]
  },
  {
   "cell_type": "markdown",
   "metadata": {
    "slideshow": {
     "slide_type": "fragment"
    }
   },
   "source": [
    " - Boto"
   ]
  },
  {
   "cell_type": "markdown",
   "metadata": {
    "slideshow": {
     "slide_type": "slide"
    }
   },
   "source": [
    "# You have your dataframe. Now what?"
   ]
  },
  {
   "cell_type": "markdown",
   "metadata": {
    "slideshow": {
     "slide_type": "slide"
    }
   },
   "source": [
    "## Basic operations:"
   ]
  },
  {
   "cell_type": "code",
   "execution_count": 5,
   "metadata": {
    "collapsed": false,
    "slideshow": {
     "slide_type": "fragment"
    }
   },
   "outputs": [
    {
     "data": {
      "text/html": [
       "<div>\n",
       "<table border=\"1\" class=\"dataframe\">\n",
       "  <thead>\n",
       "    <tr style=\"text-align: right;\">\n",
       "      <th></th>\n",
       "      <th>user_id</th>\n",
       "      <th>item_id</th>\n",
       "      <th>artist_id</th>\n",
       "      <th>timestamp</th>\n",
       "    </tr>\n",
       "  </thead>\n",
       "  <tbody>\n",
       "    <tr>\n",
       "      <th>0</th>\n",
       "      <td>5759068</td>\n",
       "      <td>41</td>\n",
       "      <td>1</td>\n",
       "      <td>2007-11-05 13:33:28</td>\n",
       "    </tr>\n",
       "    <tr>\n",
       "      <th>1</th>\n",
       "      <td>5759068</td>\n",
       "      <td>41</td>\n",
       "      <td>1</td>\n",
       "      <td>2009-03-29 20:18:48</td>\n",
       "    </tr>\n",
       "    <tr>\n",
       "      <th>2</th>\n",
       "      <td>5759068</td>\n",
       "      <td>41</td>\n",
       "      <td>1</td>\n",
       "      <td>2009-06-04 23:35:14</td>\n",
       "    </tr>\n",
       "    <tr>\n",
       "      <th>3</th>\n",
       "      <td>5759068</td>\n",
       "      <td>41</td>\n",
       "      <td>1</td>\n",
       "      <td>2010-02-06 03:51:20</td>\n",
       "    </tr>\n",
       "    <tr>\n",
       "      <th>4</th>\n",
       "      <td>5759068</td>\n",
       "      <td>41</td>\n",
       "      <td>1</td>\n",
       "      <td>2010-03-24 21:02:33</td>\n",
       "    </tr>\n",
       "  </tbody>\n",
       "</table>\n",
       "</div>"
      ],
      "text/plain": [
       "   user_id  item_id  artist_id           timestamp\n",
       "0  5759068       41          1 2007-11-05 13:33:28\n",
       "1  5759068       41          1 2009-03-29 20:18:48\n",
       "2  5759068       41          1 2009-06-04 23:35:14\n",
       "3  5759068       41          1 2010-02-06 03:51:20\n",
       "4  5759068       41          1 2010-03-24 21:02:33"
      ]
     },
     "execution_count": 5,
     "metadata": {},
     "output_type": "execute_result"
    }
   ],
   "source": [
    "# preview the data: \n",
    "data.head()"
   ]
  },
  {
   "cell_type": "code",
   "execution_count": 6,
   "metadata": {
    "collapsed": false,
    "slideshow": {
     "slide_type": "fragment"
    }
   },
   "outputs": [
    {
     "data": {
      "text/html": [
       "<div>\n",
       "<table border=\"1\" class=\"dataframe\">\n",
       "  <thead>\n",
       "    <tr style=\"text-align: right;\">\n",
       "      <th></th>\n",
       "      <th>user_id</th>\n",
       "      <th>item_id</th>\n",
       "      <th>artist_id</th>\n",
       "      <th>timestamp</th>\n",
       "    </tr>\n",
       "  </thead>\n",
       "  <tbody>\n",
       "    <tr>\n",
       "      <th>58828</th>\n",
       "      <td>5759068</td>\n",
       "      <td>39064966</td>\n",
       "      <td>39064958</td>\n",
       "      <td>2010-03-29 18:07:03</td>\n",
       "    </tr>\n",
       "    <tr>\n",
       "      <th>58829</th>\n",
       "      <td>5759068</td>\n",
       "      <td>39064990</td>\n",
       "      <td>39064991</td>\n",
       "      <td>2007-12-31 14:00:14</td>\n",
       "    </tr>\n",
       "    <tr>\n",
       "      <th>58830</th>\n",
       "      <td>5759068</td>\n",
       "      <td>39065008</td>\n",
       "      <td>39065006</td>\n",
       "      <td>2012-11-24 23:56:02</td>\n",
       "    </tr>\n",
       "    <tr>\n",
       "      <th>58831</th>\n",
       "      <td>5759068</td>\n",
       "      <td>39065013</td>\n",
       "      <td>39065014</td>\n",
       "      <td>2007-07-25 19:24:11</td>\n",
       "    </tr>\n",
       "    <tr>\n",
       "      <th>58832</th>\n",
       "      <td>5759068</td>\n",
       "      <td>39065015</td>\n",
       "      <td>39065014</td>\n",
       "      <td>2007-08-09 04:01:52</td>\n",
       "    </tr>\n",
       "  </tbody>\n",
       "</table>\n",
       "</div>"
      ],
      "text/plain": [
       "       user_id   item_id  artist_id           timestamp\n",
       "58828  5759068  39064966   39064958 2010-03-29 18:07:03\n",
       "58829  5759068  39064990   39064991 2007-12-31 14:00:14\n",
       "58830  5759068  39065008   39065006 2012-11-24 23:56:02\n",
       "58831  5759068  39065013   39065014 2007-07-25 19:24:11\n",
       "58832  5759068  39065015   39065014 2007-08-09 04:01:52"
      ]
     },
     "execution_count": 6,
     "metadata": {},
     "output_type": "execute_result"
    }
   ],
   "source": [
    "data.tail()"
   ]
  },
  {
   "cell_type": "code",
   "execution_count": 7,
   "metadata": {
    "collapsed": false,
    "slideshow": {
     "slide_type": "subslide"
    }
   },
   "outputs": [
    {
     "data": {
      "text/html": [
       "<div>\n",
       "<table border=\"1\" class=\"dataframe\">\n",
       "  <thead>\n",
       "    <tr style=\"text-align: right;\">\n",
       "      <th></th>\n",
       "      <th>user_id</th>\n",
       "      <th>item_id</th>\n",
       "      <th>artist_id</th>\n",
       "    </tr>\n",
       "  </thead>\n",
       "  <tbody>\n",
       "    <tr>\n",
       "      <th>count</th>\n",
       "      <td>58833</td>\n",
       "      <td>58833.000000</td>\n",
       "      <td>58833.000000</td>\n",
       "    </tr>\n",
       "    <tr>\n",
       "      <th>mean</th>\n",
       "      <td>5759068</td>\n",
       "      <td>2250941.841738</td>\n",
       "      <td>191385.196165</td>\n",
       "    </tr>\n",
       "    <tr>\n",
       "      <th>std</th>\n",
       "      <td>0</td>\n",
       "      <td>6646153.662761</td>\n",
       "      <td>2126089.930947</td>\n",
       "    </tr>\n",
       "    <tr>\n",
       "      <th>min</th>\n",
       "      <td>5759068</td>\n",
       "      <td>15.000000</td>\n",
       "      <td>1.000000</td>\n",
       "    </tr>\n",
       "    <tr>\n",
       "      <th>25%</th>\n",
       "      <td>5759068</td>\n",
       "      <td>87753.000000</td>\n",
       "      <td>1211.000000</td>\n",
       "    </tr>\n",
       "    <tr>\n",
       "      <th>50%</th>\n",
       "      <td>5759068</td>\n",
       "      <td>239366.000000</td>\n",
       "      <td>2965.000000</td>\n",
       "    </tr>\n",
       "    <tr>\n",
       "      <th>75%</th>\n",
       "      <td>5759068</td>\n",
       "      <td>1120718.000000</td>\n",
       "      <td>13973.000000</td>\n",
       "    </tr>\n",
       "    <tr>\n",
       "      <th>max</th>\n",
       "      <td>5759068</td>\n",
       "      <td>39065044.000000</td>\n",
       "      <td>39065014.000000</td>\n",
       "    </tr>\n",
       "  </tbody>\n",
       "</table>\n",
       "</div>"
      ],
      "text/plain": [
       "       user_id          item_id        artist_id\n",
       "count    58833     58833.000000     58833.000000\n",
       "mean   5759068   2250941.841738    191385.196165\n",
       "std          0   6646153.662761   2126089.930947\n",
       "min    5759068        15.000000         1.000000\n",
       "25%    5759068     87753.000000      1211.000000\n",
       "50%    5759068    239366.000000      2965.000000\n",
       "75%    5759068   1120718.000000     13973.000000\n",
       "max    5759068  39065044.000000  39065014.000000"
      ]
     },
     "execution_count": 7,
     "metadata": {},
     "output_type": "execute_result"
    }
   ],
   "source": [
    "# simple stats:\n",
    "data.describe()"
   ]
  },
  {
   "cell_type": "code",
   "execution_count": 8,
   "metadata": {
    "collapsed": false,
    "slideshow": {
     "slide_type": "subslide"
    }
   },
   "outputs": [
    {
     "data": {
      "text/html": [
       "<div>\n",
       "<table border=\"1\" class=\"dataframe\">\n",
       "  <thead>\n",
       "    <tr style=\"text-align: right;\">\n",
       "      <th></th>\n",
       "      <th>user_id</th>\n",
       "      <th>item_id</th>\n",
       "      <th>artist_id</th>\n",
       "      <th>timestamp</th>\n",
       "    </tr>\n",
       "  </thead>\n",
       "  <tbody>\n",
       "    <tr>\n",
       "      <th>10061</th>\n",
       "      <td>5759068</td>\n",
       "      <td>3623</td>\n",
       "      <td>405</td>\n",
       "      <td>2007-02-24 22:54:28</td>\n",
       "    </tr>\n",
       "    <tr>\n",
       "      <th>42885</th>\n",
       "      <td>5759068</td>\n",
       "      <td>74220</td>\n",
       "      <td>11337</td>\n",
       "      <td>2007-02-24 22:59:07</td>\n",
       "    </tr>\n",
       "    <tr>\n",
       "      <th>34972</th>\n",
       "      <td>5759068</td>\n",
       "      <td>64735</td>\n",
       "      <td>4536</td>\n",
       "      <td>2007-02-24 23:01:54</td>\n",
       "    </tr>\n",
       "    <tr>\n",
       "      <th>52132</th>\n",
       "      <td>5759068</td>\n",
       "      <td>2021815</td>\n",
       "      <td>42105</td>\n",
       "      <td>2007-02-25 01:55:39</td>\n",
       "    </tr>\n",
       "    <tr>\n",
       "      <th>30434</th>\n",
       "      <td>5759068</td>\n",
       "      <td>39064541</td>\n",
       "      <td>3014</td>\n",
       "      <td>2007-02-25 02:00:36</td>\n",
       "    </tr>\n",
       "  </tbody>\n",
       "</table>\n",
       "</div>"
      ],
      "text/plain": [
       "       user_id   item_id  artist_id           timestamp\n",
       "10061  5759068      3623        405 2007-02-24 22:54:28\n",
       "42885  5759068     74220      11337 2007-02-24 22:59:07\n",
       "34972  5759068     64735       4536 2007-02-24 23:01:54\n",
       "52132  5759068   2021815      42105 2007-02-25 01:55:39\n",
       "30434  5759068  39064541       3014 2007-02-25 02:00:36"
      ]
     },
     "execution_count": 8,
     "metadata": {},
     "output_type": "execute_result"
    }
   ],
   "source": [
    "# sorting\n",
    "data = data.sort('timestamp',ascending=True)\n",
    "data.head()"
   ]
  },
  {
   "cell_type": "markdown",
   "metadata": {
    "slideshow": {
     "slide_type": "slide"
    }
   },
   "source": [
    "## Leveraging Numpy"
   ]
  },
  {
   "cell_type": "code",
   "execution_count": 9,
   "metadata": {
    "collapsed": false,
    "slideshow": {
     "slide_type": "fragment"
    }
   },
   "outputs": [
    {
     "name": "stdout",
     "output_type": "stream",
     "text": [
      "[0, 1, 2, 3, 4, 5, 6, 7, 8, 9]\n",
      "[0, 1, 2, 3, 4, 5, 6, 7, 8, 9, 0, 1, 2, 3, 4, 5, 6, 7, 8, 9, 0, 1, 2, 3, 4, 5, 6, 7, 8, 9]\n"
     ]
    },
    {
     "ename": "TypeError",
     "evalue": "can only concatenate list (not \"int\") to list",
     "output_type": "error",
     "traceback": [
      "\u001b[0;31m---------------------------------------------------------------------------\u001b[0m",
      "\u001b[0;31mTypeError\u001b[0m                                 Traceback (most recent call last)",
      "\u001b[0;32m<ipython-input-9-20fae026fa5d>\u001b[0m in \u001b[0;36m<module>\u001b[0;34m()\u001b[0m\n\u001b[1;32m      5\u001b[0m \u001b[0;34m\u001b[0m\u001b[0m\n\u001b[1;32m      6\u001b[0m \u001b[0;32mprint\u001b[0m \u001b[0mx\u001b[0m\u001b[0;34m*\u001b[0m\u001b[0;36m3\u001b[0m\u001b[0;34m\u001b[0m\u001b[0m\n\u001b[0;32m----> 7\u001b[0;31m \u001b[0;32mprint\u001b[0m \u001b[0mx\u001b[0m\u001b[0;34m+\u001b[0m\u001b[0;36m10\u001b[0m\u001b[0;34m\u001b[0m\u001b[0m\n\u001b[0m",
      "\u001b[0;31mTypeError\u001b[0m: can only concatenate list (not \"int\") to list"
     ]
    }
   ],
   "source": [
    "# \"vanilla\" python\n",
    "\n",
    "x = range(10)\n",
    "print x\n",
    "\n",
    "print x*3\n",
    "print x+10"
   ]
  },
  {
   "cell_type": "code",
   "execution_count": 10,
   "metadata": {
    "collapsed": false,
    "slideshow": {
     "slide_type": "fragment"
    }
   },
   "outputs": [
    {
     "name": "stdout",
     "output_type": "stream",
     "text": [
      "[0, 3, 6, 9, 12, 15, 18, 21, 24, 27]\n"
     ]
    },
    {
     "data": {
      "text/plain": [
       "[10, 11, 12, 13, 14, 15, 16, 17, 18, 19]"
      ]
     },
     "execution_count": 10,
     "metadata": {},
     "output_type": "execute_result"
    }
   ],
   "source": [
    "new1 = [i*3 for i in x]\n",
    "print new1\n",
    "\n",
    "new2 = [i+10 for i in x]\n",
    "new2\n"
   ]
  },
  {
   "cell_type": "code",
   "execution_count": 11,
   "metadata": {
    "collapsed": false,
    "slideshow": {
     "slide_type": "subslide"
    }
   },
   "outputs": [
    {
     "data": {
      "text/plain": [
       "array([0, 1, 2, 3, 4, 5, 6, 7, 8, 9])"
      ]
     },
     "metadata": {},
     "output_type": "display_data"
    },
    {
     "data": {
      "text/plain": [
       "array([ 0,  3,  6,  9, 12, 15, 18, 21, 24, 27])"
      ]
     },
     "metadata": {},
     "output_type": "display_data"
    },
    {
     "data": {
      "text/plain": [
       "array([10, 11, 12, 13, 14, 15, 16, 17, 18, 19])"
      ]
     },
     "metadata": {},
     "output_type": "display_data"
    }
   ],
   "source": [
    "x_arr = np.array(x)\n",
    "display(x_arr)\n",
    "\n",
    "display(x_arr*3)\n",
    "display(x_arr+10)"
   ]
  },
  {
   "cell_type": "code",
   "execution_count": 12,
   "metadata": {
    "collapsed": false,
    "slideshow": {
     "slide_type": "fragment"
    }
   },
   "outputs": [
    {
     "name": "stdout",
     "output_type": "stream",
     "text": [
      "[ 0.          0.84147098  0.90929743  0.14112001 -0.7568025  -0.95892427\n",
      " -0.2794155   0.6569866   0.98935825  0.41211849]\n",
      "[  1.00000000e+00   2.71828183e+00   7.38905610e+00   2.00855369e+01\n",
      "   5.45981500e+01   1.48413159e+02   4.03428793e+02   1.09663316e+03\n",
      "   2.98095799e+03   8.10308393e+03]\n",
      "Mean of array -> 4.5\n",
      "Index of highest value in array -> 9\n",
      "Sum of array -> 45\n",
      "Product of array -> 0\n"
     ]
    }
   ],
   "source": [
    "print np.sin(x_arr)\n",
    "print np.exp(x_arr)\n",
    "\n",
    "print \"Mean of array -> %s\" % x_arr.mean()\n",
    "print \"Index of highest value in array -> %s\" % x_arr.argmax()\n",
    "print \"Sum of array -> %s\" % x_arr.sum()\n",
    "print \"Product of array -> %s\" % x_arr.prod()\n"
   ]
  },
  {
   "cell_type": "code",
   "execution_count": 13,
   "metadata": {
    "collapsed": false,
    "slideshow": {
     "slide_type": "subslide"
    }
   },
   "outputs": [
    {
     "data": {
      "text/plain": [
       "user_id      5759068.000000\n",
       "item_id      2250941.841738\n",
       "artist_id     191385.196165\n",
       "dtype: float64"
      ]
     },
     "execution_count": 13,
     "metadata": {},
     "output_type": "execute_result"
    }
   ],
   "source": [
    "data.mean(axis=0) # axis=0: operate over rows\n",
    "### note that these only operate on *numeric* columns"
   ]
  },
  {
   "cell_type": "code",
   "execution_count": 14,
   "metadata": {
    "collapsed": false,
    "slideshow": {
     "slide_type": "fragment"
    }
   },
   "outputs": [
    {
     "name": "stdout",
     "output_type": "stream",
     "text": [
      "10061     5763096\n",
      "42885     5844625\n",
      "34972     5828339\n",
      "52132     7822988\n",
      "30434    44826623\n",
      "19986     5778037\n",
      "15221     6262042\n",
      "37625     5913179\n",
      "10294     5866792\n",
      "31556     5852659\n",
      "13577     5849756\n",
      "27241     5809060\n",
      "12008     6089487\n",
      "48280     6051698\n",
      "48996     5831800\n",
      "dtype: int64\n"
     ]
    }
   ],
   "source": [
    "print data.sum(axis=1).head(15) # # axis=0: operate over columns\n"
   ]
  },
  {
   "cell_type": "markdown",
   "metadata": {
    "slideshow": {
     "slide_type": "slide"
    }
   },
   "source": [
    "## Selecting and grouping data, and playing with columns..."
   ]
  },
  {
   "cell_type": "code",
   "execution_count": 15,
   "metadata": {
    "collapsed": false,
    "slideshow": {
     "slide_type": "subslide"
    }
   },
   "outputs": [
    {
     "data": {
      "text/plain": [
       "10061      405\n",
       "42885    11337\n",
       "34972     4536\n",
       "52132    42105\n",
       "30434     3014\n",
       "19986     1996\n",
       "15221     1328\n",
       "37625     7432\n",
       "10294      405\n",
       "31556     3875\n",
       "Name: artist_id, dtype: int64"
      ]
     },
     "execution_count": 15,
     "metadata": {},
     "output_type": "execute_result"
    }
   ],
   "source": [
    "# get a column:\n",
    "data['artist_id'].head(10)"
   ]
  },
  {
   "cell_type": "code",
   "execution_count": 16,
   "metadata": {
    "collapsed": false,
    "slideshow": {
     "slide_type": "subslide"
    }
   },
   "outputs": [
    {
     "data": {
      "text/html": [
       "<div>\n",
       "<table border=\"1\" class=\"dataframe\">\n",
       "  <thead>\n",
       "    <tr style=\"text-align: right;\">\n",
       "      <th></th>\n",
       "      <th>user_id</th>\n",
       "      <th>item_id</th>\n",
       "      <th>artist_id</th>\n",
       "      <th>timestamp</th>\n",
       "    </tr>\n",
       "  </thead>\n",
       "  <tbody>\n",
       "    <tr>\n",
       "      <th>10061</th>\n",
       "      <td>5759068</td>\n",
       "      <td>3623</td>\n",
       "      <td>405</td>\n",
       "      <td>2007-02-24 22:54:28</td>\n",
       "    </tr>\n",
       "    <tr>\n",
       "      <th>10294</th>\n",
       "      <td>5759068</td>\n",
       "      <td>107319</td>\n",
       "      <td>405</td>\n",
       "      <td>2007-02-25 02:12:30</td>\n",
       "    </tr>\n",
       "    <tr>\n",
       "      <th>10429</th>\n",
       "      <td>5759068</td>\n",
       "      <td>168925</td>\n",
       "      <td>405</td>\n",
       "      <td>2007-02-25 04:41:51</td>\n",
       "    </tr>\n",
       "    <tr>\n",
       "      <th>10382</th>\n",
       "      <td>5759068</td>\n",
       "      <td>129362</td>\n",
       "      <td>405</td>\n",
       "      <td>2007-02-26 06:12:02</td>\n",
       "    </tr>\n",
       "    <tr>\n",
       "      <th>10184</th>\n",
       "      <td>5759068</td>\n",
       "      <td>49058</td>\n",
       "      <td>405</td>\n",
       "      <td>2007-02-28 04:00:49</td>\n",
       "    </tr>\n",
       "    <tr>\n",
       "      <th>10173</th>\n",
       "      <td>5759068</td>\n",
       "      <td>47925</td>\n",
       "      <td>405</td>\n",
       "      <td>2007-02-28 05:48:00</td>\n",
       "    </tr>\n",
       "    <tr>\n",
       "      <th>10514</th>\n",
       "      <td>5759068</td>\n",
       "      <td>337929</td>\n",
       "      <td>405</td>\n",
       "      <td>2007-03-01 06:02:02</td>\n",
       "    </tr>\n",
       "    <tr>\n",
       "      <th>10167</th>\n",
       "      <td>5759068</td>\n",
       "      <td>47901</td>\n",
       "      <td>405</td>\n",
       "      <td>2007-03-02 07:27:57</td>\n",
       "    </tr>\n",
       "    <tr>\n",
       "      <th>10224</th>\n",
       "      <td>5759068</td>\n",
       "      <td>91961</td>\n",
       "      <td>405</td>\n",
       "      <td>2007-03-02 08:32:49</td>\n",
       "    </tr>\n",
       "    <tr>\n",
       "      <th>10062</th>\n",
       "      <td>5759068</td>\n",
       "      <td>3623</td>\n",
       "      <td>405</td>\n",
       "      <td>2007-03-02 08:36:12</td>\n",
       "    </tr>\n",
       "  </tbody>\n",
       "</table>\n",
       "</div>"
      ],
      "text/plain": [
       "       user_id  item_id  artist_id           timestamp\n",
       "10061  5759068     3623        405 2007-02-24 22:54:28\n",
       "10294  5759068   107319        405 2007-02-25 02:12:30\n",
       "10429  5759068   168925        405 2007-02-25 04:41:51\n",
       "10382  5759068   129362        405 2007-02-26 06:12:02\n",
       "10184  5759068    49058        405 2007-02-28 04:00:49\n",
       "10173  5759068    47925        405 2007-02-28 05:48:00\n",
       "10514  5759068   337929        405 2007-03-01 06:02:02\n",
       "10167  5759068    47901        405 2007-03-02 07:27:57\n",
       "10224  5759068    91961        405 2007-03-02 08:32:49\n",
       "10062  5759068     3623        405 2007-03-02 08:36:12"
      ]
     },
     "execution_count": 16,
     "metadata": {},
     "output_type": "execute_result"
    }
   ],
   "source": [
    "# get rows matching a condition\n",
    "data[data['artist_id']==405].head(10)"
   ]
  },
  {
   "cell_type": "code",
   "execution_count": 17,
   "metadata": {
    "collapsed": false,
    "slideshow": {
     "slide_type": "subslide"
    }
   },
   "outputs": [
    {
     "data": {
      "text/html": [
       "<div>\n",
       "<table border=\"1\" class=\"dataframe\">\n",
       "  <thead>\n",
       "    <tr style=\"text-align: right;\">\n",
       "      <th></th>\n",
       "      <th>artist_id</th>\n",
       "      <th>artist</th>\n",
       "    </tr>\n",
       "  </thead>\n",
       "  <tbody>\n",
       "    <tr>\n",
       "      <th>0</th>\n",
       "      <td>1</td>\n",
       "      <td>slipknot</td>\n",
       "    </tr>\n",
       "    <tr>\n",
       "      <th>1</th>\n",
       "      <td>12</td>\n",
       "      <td>%c3%9cnloco</td>\n",
       "    </tr>\n",
       "    <tr>\n",
       "      <th>2</th>\n",
       "      <td>14</td>\n",
       "      <td>muse</td>\n",
       "    </tr>\n",
       "    <tr>\n",
       "      <th>3</th>\n",
       "      <td>18</td>\n",
       "      <td>earshot</td>\n",
       "    </tr>\n",
       "    <tr>\n",
       "      <th>4</th>\n",
       "      <td>35</td>\n",
       "      <td>drowning+pool</td>\n",
       "    </tr>\n",
       "  </tbody>\n",
       "</table>\n",
       "</div>"
      ],
      "text/plain": [
       "   artist_id         artist\n",
       "0          1       slipknot\n",
       "1         12    %c3%9cnloco\n",
       "2         14           muse\n",
       "3         18        earshot\n",
       "4         35  drowning+pool"
      ]
     },
     "execution_count": 17,
     "metadata": {},
     "output_type": "execute_result"
    }
   ],
   "source": [
    "# SQL-style joins and other operations\n",
    "artists = pd.read_table('tmp')\n",
    "artists.head()"
   ]
  },
  {
   "cell_type": "code",
   "execution_count": 18,
   "metadata": {
    "collapsed": false,
    "slideshow": {
     "slide_type": "fragment"
    }
   },
   "outputs": [
    {
     "data": {
      "text/html": [
       "<div>\n",
       "<table border=\"1\" class=\"dataframe\">\n",
       "  <thead>\n",
       "    <tr style=\"text-align: right;\">\n",
       "      <th></th>\n",
       "      <th>user_id</th>\n",
       "      <th>item_id</th>\n",
       "      <th>artist_id</th>\n",
       "      <th>timestamp</th>\n",
       "      <th>artist</th>\n",
       "    </tr>\n",
       "  </thead>\n",
       "  <tbody>\n",
       "    <tr>\n",
       "      <th>0</th>\n",
       "      <td>5759068</td>\n",
       "      <td>3623</td>\n",
       "      <td>405</td>\n",
       "      <td>2007-02-24 22:54:28</td>\n",
       "      <td>queens+of+the+stone+age</td>\n",
       "    </tr>\n",
       "    <tr>\n",
       "      <th>1</th>\n",
       "      <td>5759068</td>\n",
       "      <td>74220</td>\n",
       "      <td>11337</td>\n",
       "      <td>2007-02-24 22:59:07</td>\n",
       "      <td>lupe+fiasco</td>\n",
       "    </tr>\n",
       "    <tr>\n",
       "      <th>2</th>\n",
       "      <td>5759068</td>\n",
       "      <td>64735</td>\n",
       "      <td>4536</td>\n",
       "      <td>2007-02-24 23:01:54</td>\n",
       "      <td>black+eyed+peas</td>\n",
       "    </tr>\n",
       "    <tr>\n",
       "      <th>3</th>\n",
       "      <td>5759068</td>\n",
       "      <td>2021815</td>\n",
       "      <td>42105</td>\n",
       "      <td>2007-02-25 01:55:39</td>\n",
       "      <td>aesop+rock</td>\n",
       "    </tr>\n",
       "    <tr>\n",
       "      <th>4</th>\n",
       "      <td>5759068</td>\n",
       "      <td>39064541</td>\n",
       "      <td>3014</td>\n",
       "      <td>2007-02-25 02:00:36</td>\n",
       "      <td>at+the+drive-in</td>\n",
       "    </tr>\n",
       "  </tbody>\n",
       "</table>\n",
       "</div>"
      ],
      "text/plain": [
       "   user_id   item_id  artist_id           timestamp                   artist\n",
       "0  5759068      3623        405 2007-02-24 22:54:28  queens+of+the+stone+age\n",
       "1  5759068     74220      11337 2007-02-24 22:59:07              lupe+fiasco\n",
       "2  5759068     64735       4536 2007-02-24 23:01:54          black+eyed+peas\n",
       "3  5759068   2021815      42105 2007-02-25 01:55:39               aesop+rock\n",
       "4  5759068  39064541       3014 2007-02-25 02:00:36          at+the+drive-in"
      ]
     },
     "execution_count": 18,
     "metadata": {},
     "output_type": "execute_result"
    }
   ],
   "source": [
    "data = data.merge(artists,on='artist_id',how='left')\n",
    "data.head()"
   ]
  },
  {
   "cell_type": "code",
   "execution_count": 19,
   "metadata": {
    "collapsed": true
   },
   "outputs": [],
   "source": [
    "# Drop column \n",
    "data = data.drop('user_id',axis=1)\n"
   ]
  },
  {
   "cell_type": "code",
   "execution_count": 20,
   "metadata": {
    "collapsed": false,
    "slideshow": {
     "slide_type": "subslide"
    }
   },
   "outputs": [
    {
     "data": {
      "text/html": [
       "<div>\n",
       "<table border=\"1\" class=\"dataframe\">\n",
       "  <thead>\n",
       "    <tr style=\"text-align: right;\">\n",
       "      <th></th>\n",
       "      <th>item_id</th>\n",
       "      <th>artist_id</th>\n",
       "      <th>timestamp</th>\n",
       "    </tr>\n",
       "    <tr>\n",
       "      <th>artist</th>\n",
       "      <th></th>\n",
       "      <th></th>\n",
       "      <th></th>\n",
       "    </tr>\n",
       "  </thead>\n",
       "  <tbody>\n",
       "    <tr>\n",
       "      <th>zero+7</th>\n",
       "      <td>8</td>\n",
       "      <td>8</td>\n",
       "      <td>8</td>\n",
       "    </tr>\n",
       "    <tr>\n",
       "      <th>zero+down</th>\n",
       "      <td>6</td>\n",
       "      <td>6</td>\n",
       "      <td>6</td>\n",
       "    </tr>\n",
       "    <tr>\n",
       "      <th>ziggy+marley</th>\n",
       "      <td>1</td>\n",
       "      <td>1</td>\n",
       "      <td>1</td>\n",
       "    </tr>\n",
       "    <tr>\n",
       "      <th>ziggy+marley+&amp;+the+melody+makers</th>\n",
       "      <td>4</td>\n",
       "      <td>4</td>\n",
       "      <td>4</td>\n",
       "    </tr>\n",
       "    <tr>\n",
       "      <th>zlad!</th>\n",
       "      <td>6</td>\n",
       "      <td>6</td>\n",
       "      <td>6</td>\n",
       "    </tr>\n",
       "    <tr>\n",
       "      <th>zo%c3%a9</th>\n",
       "      <td>9</td>\n",
       "      <td>9</td>\n",
       "      <td>9</td>\n",
       "    </tr>\n",
       "    <tr>\n",
       "      <th>zoe</th>\n",
       "      <td>2</td>\n",
       "      <td>2</td>\n",
       "      <td>2</td>\n",
       "    </tr>\n",
       "    <tr>\n",
       "      <th>zomboy</th>\n",
       "      <td>3</td>\n",
       "      <td>3</td>\n",
       "      <td>3</td>\n",
       "    </tr>\n",
       "    <tr>\n",
       "      <th>zox</th>\n",
       "      <td>1</td>\n",
       "      <td>1</td>\n",
       "      <td>1</td>\n",
       "    </tr>\n",
       "    <tr>\n",
       "      <th>zurdok</th>\n",
       "      <td>5</td>\n",
       "      <td>5</td>\n",
       "      <td>5</td>\n",
       "    </tr>\n",
       "  </tbody>\n",
       "</table>\n",
       "</div>"
      ],
      "text/plain": [
       "                                  item_id  artist_id  timestamp\n",
       "artist                                                         \n",
       "zero+7                                  8          8          8\n",
       "zero+down                               6          6          6\n",
       "ziggy+marley                            1          1          1\n",
       "ziggy+marley+&+the+melody+makers        4          4          4\n",
       "zlad!                                   6          6          6\n",
       "zo%c3%a9                                9          9          9\n",
       "zoe                                     2          2          2\n",
       "zomboy                                  3          3          3\n",
       "zox                                     1          1          1\n",
       "zurdok                                  5          5          5"
      ]
     },
     "execution_count": 20,
     "metadata": {},
     "output_type": "execute_result"
    }
   ],
   "source": [
    "# Group and aggregate!\n",
    "data.groupby('artist').count().tail(10)"
   ]
  },
  {
   "cell_type": "code",
   "execution_count": 21,
   "metadata": {
    "collapsed": false,
    "slideshow": {
     "slide_type": "fragment"
    }
   },
   "outputs": [
    {
     "data": {
      "text/plain": [
       "sigur+r%c3%b3s              2370\n",
       "radiohead                   1750\n",
       "the+mars+volta              1477\n",
       "nine+inch+nails             1417\n",
       "mogwai                      1221\n",
       "nick+cave+&+warren+ellis    1159\n",
       "beirut                      1125\n",
       "tool                        1055\n",
       "muse                         888\n",
       "ratatat                      839\n",
       "dtype: int64"
      ]
     },
     "execution_count": 21,
     "metadata": {},
     "output_type": "execute_result"
    }
   ],
   "source": [
    "data['artist'].value_counts().head(10)"
   ]
  },
  {
   "cell_type": "code",
   "execution_count": 22,
   "metadata": {
    "collapsed": false,
    "slideshow": {
     "slide_type": "subslide"
    }
   },
   "outputs": [
    {
     "data": {
      "text/html": [
       "<div>\n",
       "<table border=\"1\" class=\"dataframe\">\n",
       "  <thead>\n",
       "    <tr style=\"text-align: right;\">\n",
       "      <th></th>\n",
       "      <th></th>\n",
       "      <th>artist_id</th>\n",
       "      <th>timestamp</th>\n",
       "    </tr>\n",
       "    <tr>\n",
       "      <th>artist</th>\n",
       "      <th>item_id</th>\n",
       "      <th></th>\n",
       "      <th></th>\n",
       "    </tr>\n",
       "  </thead>\n",
       "  <tbody>\n",
       "    <tr>\n",
       "      <th rowspan=\"4\" valign=\"top\">zo%c3%a9</th>\n",
       "      <th>1691584</th>\n",
       "      <td>1</td>\n",
       "      <td>1</td>\n",
       "    </tr>\n",
       "    <tr>\n",
       "      <th>2983328</th>\n",
       "      <td>2</td>\n",
       "      <td>2</td>\n",
       "    </tr>\n",
       "    <tr>\n",
       "      <th>37276281</th>\n",
       "      <td>1</td>\n",
       "      <td>1</td>\n",
       "    </tr>\n",
       "    <tr>\n",
       "      <th>39065043</th>\n",
       "      <td>2</td>\n",
       "      <td>2</td>\n",
       "    </tr>\n",
       "    <tr>\n",
       "      <th>zoe</th>\n",
       "      <th>39065044</th>\n",
       "      <td>2</td>\n",
       "      <td>2</td>\n",
       "    </tr>\n",
       "    <tr>\n",
       "      <th rowspan=\"3\" valign=\"top\">zomboy</th>\n",
       "      <th>380522</th>\n",
       "      <td>1</td>\n",
       "      <td>1</td>\n",
       "    </tr>\n",
       "    <tr>\n",
       "      <th>855510</th>\n",
       "      <td>1</td>\n",
       "      <td>1</td>\n",
       "    </tr>\n",
       "    <tr>\n",
       "      <th>1354925</th>\n",
       "      <td>1</td>\n",
       "      <td>1</td>\n",
       "    </tr>\n",
       "    <tr>\n",
       "      <th>zox</th>\n",
       "      <th>4123632</th>\n",
       "      <td>1</td>\n",
       "      <td>1</td>\n",
       "    </tr>\n",
       "    <tr>\n",
       "      <th>zurdok</th>\n",
       "      <th>1351103</th>\n",
       "      <td>5</td>\n",
       "      <td>5</td>\n",
       "    </tr>\n",
       "  </tbody>\n",
       "</table>\n",
       "</div>"
      ],
      "text/plain": [
       "                   artist_id  timestamp\n",
       "artist   item_id                       \n",
       "zo%c3%a9 1691584           1          1\n",
       "         2983328           2          2\n",
       "         37276281          1          1\n",
       "         39065043          2          2\n",
       "zoe      39065044          2          2\n",
       "zomboy   380522            1          1\n",
       "         855510            1          1\n",
       "         1354925           1          1\n",
       "zox      4123632           1          1\n",
       "zurdok   1351103           5          5"
      ]
     },
     "execution_count": 22,
     "metadata": {},
     "output_type": "execute_result"
    }
   ],
   "source": [
    "data.groupby(['artist','item_id']).count().tail(10)"
   ]
  },
  {
   "cell_type": "code",
   "execution_count": 23,
   "metadata": {
    "collapsed": false,
    "slideshow": {
     "slide_type": "fragment"
    }
   },
   "outputs": [
    {
     "data": {
      "text/html": [
       "<div>\n",
       "<table border=\"1\" class=\"dataframe\">\n",
       "  <thead>\n",
       "    <tr style=\"text-align: right;\">\n",
       "      <th></th>\n",
       "      <th>item_id</th>\n",
       "      <th>artist_id</th>\n",
       "      <th>timestamp</th>\n",
       "    </tr>\n",
       "  </thead>\n",
       "  <tbody>\n",
       "    <tr>\n",
       "      <th>%</th>\n",
       "      <td>818</td>\n",
       "      <td>818</td>\n",
       "      <td>818</td>\n",
       "    </tr>\n",
       "    <tr>\n",
       "      <th>.</th>\n",
       "      <td>232</td>\n",
       "      <td>232</td>\n",
       "      <td>232</td>\n",
       "    </tr>\n",
       "    <tr>\n",
       "      <th>1</th>\n",
       "      <td>13</td>\n",
       "      <td>13</td>\n",
       "      <td>13</td>\n",
       "    </tr>\n",
       "    <tr>\n",
       "      <th>2</th>\n",
       "      <td>51</td>\n",
       "      <td>51</td>\n",
       "      <td>51</td>\n",
       "    </tr>\n",
       "    <tr>\n",
       "      <th>3</th>\n",
       "      <td>16</td>\n",
       "      <td>16</td>\n",
       "      <td>16</td>\n",
       "    </tr>\n",
       "    <tr>\n",
       "      <th>5</th>\n",
       "      <td>3</td>\n",
       "      <td>3</td>\n",
       "      <td>3</td>\n",
       "    </tr>\n",
       "    <tr>\n",
       "      <th>6</th>\n",
       "      <td>528</td>\n",
       "      <td>528</td>\n",
       "      <td>528</td>\n",
       "    </tr>\n",
       "    <tr>\n",
       "      <th>a</th>\n",
       "      <td>4624</td>\n",
       "      <td>4624</td>\n",
       "      <td>4624</td>\n",
       "    </tr>\n",
       "    <tr>\n",
       "      <th>b</th>\n",
       "      <td>2898</td>\n",
       "      <td>2898</td>\n",
       "      <td>2898</td>\n",
       "    </tr>\n",
       "    <tr>\n",
       "      <th>c</th>\n",
       "      <td>2412</td>\n",
       "      <td>2412</td>\n",
       "      <td>2412</td>\n",
       "    </tr>\n",
       "  </tbody>\n",
       "</table>\n",
       "</div>"
      ],
      "text/plain": [
       "   item_id  artist_id  timestamp\n",
       "%      818        818        818\n",
       ".      232        232        232\n",
       "1       13         13         13\n",
       "2       51         51         51\n",
       "3       16         16         16\n",
       "5        3          3          3\n",
       "6      528        528        528\n",
       "a     4624       4624       4624\n",
       "b     2898       2898       2898\n",
       "c     2412       2412       2412"
      ]
     },
     "execution_count": 23,
     "metadata": {},
     "output_type": "execute_result"
    }
   ],
   "source": [
    "def group_by_first_letter(artist_name):\n",
    "    return artist_name[0] # first letter of names\n",
    "\n",
    "data.set_index('artist').groupby(group_by_first_letter).count().head(10)"
   ]
  },
  {
   "cell_type": "markdown",
   "metadata": {
    "slideshow": {
     "slide_type": "slide"
    }
   },
   "source": [
    "# Let's try some more realistic examples..."
   ]
  },
  {
   "cell_type": "markdown",
   "metadata": {
    "slideshow": {
     "slide_type": "slide"
    }
   },
   "source": [
    "### How much do I listen each month?"
   ]
  },
  {
   "cell_type": "code",
   "execution_count": 24,
   "metadata": {
    "collapsed": false,
    "slideshow": {
     "slide_type": "fragment"
    }
   },
   "outputs": [
    {
     "data": {
      "text/plain": [
       "<matplotlib.axes._subplots.AxesSubplot at 0x10478e050>"
      ]
     },
     "execution_count": 24,
     "metadata": {},
     "output_type": "execute_result"
    },
    {
     "data": {
      "image/png": "[encoded data removed]",
      "text/plain": [
       "<matplotlib.figure.Figure at 0x106ee72d0>"
      ]
     },
     "metadata": {},
     "output_type": "display_data"
    }
   ],
   "source": [
    "time_indexed = data.set_index('timestamp')\n",
    "time_indexed.resample('M',how='count')['artist'].plot()"
   ]
  },
  {
   "cell_type": "code",
   "execution_count": 25,
   "metadata": {
    "collapsed": false,
    "slideshow": {
     "slide_type": "subslide"
    }
   },
   "outputs": [
    {
     "data": {
      "text/plain": [
       "<matplotlib.axes._subplots.AxesSubplot at 0x10b1ec550>"
      ]
     },
     "execution_count": 25,
     "metadata": {},
     "output_type": "execute_result"
    },
    {
     "data": {
      "image/png": "[encoded data removed]",
      "text/plain": [
       "<matplotlib.figure.Figure at 0x10ade7790>"
      ]
     },
     "metadata": {},
     "output_type": "display_data"
    }
   ],
   "source": [
    "fix,axes = plt.subplots(1,2,figsize=(12,4))\n",
    "time_indexed.resample('A',how='count')['artist'].plot(ax=axes[0])\n",
    "time_indexed.resample('W',how='count')['artist'].plot(ax=axes[1])"
   ]
  },
  {
   "cell_type": "markdown",
   "metadata": {
    "slideshow": {
     "slide_type": "fragment"
    }
   },
   "source": [
    "### Can we break it down by artist?"
   ]
  },
  {
   "cell_type": "code",
   "execution_count": 26,
   "metadata": {
    "collapsed": false,
    "slideshow": {
     "slide_type": "subslide"
    }
   },
   "outputs": [
    {
     "data": {
      "text/plain": [
       "artist    timestamp          \n",
       "zlad!     2007-07-31 00:43:48    1\n",
       "          2007-10-26 16:49:01    1\n",
       "          2008-03-02 13:05:52    1\n",
       "          2008-03-12 17:31:00    1\n",
       "          2008-03-14 09:08:54    1\n",
       "zo%c3%a9  2008-01-02 17:30:35    1\n",
       "          2008-01-02 17:35:21    1\n",
       "          2008-01-02 17:40:11    1\n",
       "          2008-02-18 00:08:55    1\n",
       "          2008-07-14 19:19:28    1\n",
       "          2008-08-28 05:52:51    1\n",
       "          2009-02-13 00:11:48    1\n",
       "          2009-03-05 05:49:31    1\n",
       "          2009-10-13 08:50:00    1\n",
       "zoe       2008-07-08 05:18:54    1\n",
       "          2008-08-20 01:34:02    1\n",
       "zomboy    2012-06-04 22:55:37    1\n",
       "          2012-06-08 23:32:59    1\n",
       "          2012-12-04 23:34:50    1\n",
       "zox       2009-02-10 00:00:15    1\n",
       "zurdok    2008-01-19 23:00:32    1\n",
       "          2008-01-30 13:15:51    1\n",
       "          2008-02-03 14:50:28    1\n",
       "          2008-04-28 07:41:57    1\n",
       "          2009-06-12 20:13:36    1\n",
       "Name: item_id, dtype: int64"
      ]
     },
     "execution_count": 26,
     "metadata": {},
     "output_type": "execute_result"
    }
   ],
   "source": [
    "monthly_listens_by_artist = data.groupby(['artist','timestamp']).count()['item_id']\n",
    "monthly_listens_by_artist.tail(25)"
   ]
  },
  {
   "cell_type": "code",
   "execution_count": 27,
   "metadata": {
    "collapsed": false,
    "slideshow": {
     "slide_type": "subslide"
    }
   },
   "outputs": [
    {
     "data": {
      "text/html": [
       "<div>\n",
       "<table border=\"1\" class=\"dataframe\">\n",
       "  <thead>\n",
       "    <tr style=\"text-align: right;\">\n",
       "      <th>timestamp</th>\n",
       "      <th>2007-02-24 22:54:28</th>\n",
       "      <th>2007-02-24 22:59:07</th>\n",
       "      <th>2007-02-24 23:01:54</th>\n",
       "      <th>2007-02-25 01:55:39</th>\n",
       "      <th>2007-02-25 02:00:36</th>\n",
       "      <th>2007-02-25 02:03:25</th>\n",
       "      <th>2007-02-25 02:05:00</th>\n",
       "      <th>2007-02-25 02:09:16</th>\n",
       "      <th>2007-02-25 02:12:30</th>\n",
       "      <th>2007-02-25 02:15:22</th>\n",
       "      <th>...</th>\n",
       "      <th>2012-12-28 17:12:03</th>\n",
       "      <th>2012-12-28 17:19:03</th>\n",
       "      <th>2012-12-29 21:55:51</th>\n",
       "      <th>2012-12-29 21:59:43</th>\n",
       "      <th>2012-12-29 22:03:41</th>\n",
       "      <th>2012-12-29 22:06:38</th>\n",
       "      <th>2012-12-29 22:09:57</th>\n",
       "      <th>2012-12-29 22:13:33</th>\n",
       "      <th>2012-12-29 22:16:42</th>\n",
       "      <th>2012-12-29 22:20:38</th>\n",
       "    </tr>\n",
       "    <tr>\n",
       "      <th>artist</th>\n",
       "      <th></th>\n",
       "      <th></th>\n",
       "      <th></th>\n",
       "      <th></th>\n",
       "      <th></th>\n",
       "      <th></th>\n",
       "      <th></th>\n",
       "      <th></th>\n",
       "      <th></th>\n",
       "      <th></th>\n",
       "      <th></th>\n",
       "      <th></th>\n",
       "      <th></th>\n",
       "      <th></th>\n",
       "      <th></th>\n",
       "      <th></th>\n",
       "      <th></th>\n",
       "      <th></th>\n",
       "      <th></th>\n",
       "      <th></th>\n",
       "      <th></th>\n",
       "    </tr>\n",
       "  </thead>\n",
       "  <tbody>\n",
       "    <tr>\n",
       "      <th>zero+7</th>\n",
       "      <td>NaN</td>\n",
       "      <td>NaN</td>\n",
       "      <td>NaN</td>\n",
       "      <td>NaN</td>\n",
       "      <td>NaN</td>\n",
       "      <td>NaN</td>\n",
       "      <td>NaN</td>\n",
       "      <td>NaN</td>\n",
       "      <td>NaN</td>\n",
       "      <td>NaN</td>\n",
       "      <td>...</td>\n",
       "      <td>NaN</td>\n",
       "      <td>NaN</td>\n",
       "      <td>NaN</td>\n",
       "      <td>NaN</td>\n",
       "      <td>NaN</td>\n",
       "      <td>NaN</td>\n",
       "      <td>NaN</td>\n",
       "      <td>NaN</td>\n",
       "      <td>NaN</td>\n",
       "      <td>NaN</td>\n",
       "    </tr>\n",
       "    <tr>\n",
       "      <th>zero+down</th>\n",
       "      <td>NaN</td>\n",
       "      <td>NaN</td>\n",
       "      <td>NaN</td>\n",
       "      <td>NaN</td>\n",
       "      <td>NaN</td>\n",
       "      <td>NaN</td>\n",
       "      <td>NaN</td>\n",
       "      <td>NaN</td>\n",
       "      <td>NaN</td>\n",
       "      <td>NaN</td>\n",
       "      <td>...</td>\n",
       "      <td>NaN</td>\n",
       "      <td>NaN</td>\n",
       "      <td>NaN</td>\n",
       "      <td>NaN</td>\n",
       "      <td>NaN</td>\n",
       "      <td>NaN</td>\n",
       "      <td>NaN</td>\n",
       "      <td>NaN</td>\n",
       "      <td>NaN</td>\n",
       "      <td>NaN</td>\n",
       "    </tr>\n",
       "    <tr>\n",
       "      <th>ziggy+marley</th>\n",
       "      <td>NaN</td>\n",
       "      <td>NaN</td>\n",
       "      <td>NaN</td>\n",
       "      <td>NaN</td>\n",
       "      <td>NaN</td>\n",
       "      <td>NaN</td>\n",
       "      <td>NaN</td>\n",
       "      <td>NaN</td>\n",
       "      <td>NaN</td>\n",
       "      <td>NaN</td>\n",
       "      <td>...</td>\n",
       "      <td>NaN</td>\n",
       "      <td>NaN</td>\n",
       "      <td>NaN</td>\n",
       "      <td>NaN</td>\n",
       "      <td>NaN</td>\n",
       "      <td>NaN</td>\n",
       "      <td>NaN</td>\n",
       "      <td>NaN</td>\n",
       "      <td>NaN</td>\n",
       "      <td>NaN</td>\n",
       "    </tr>\n",
       "    <tr>\n",
       "      <th>ziggy+marley+&amp;+the+melody+makers</th>\n",
       "      <td>NaN</td>\n",
       "      <td>NaN</td>\n",
       "      <td>NaN</td>\n",
       "      <td>NaN</td>\n",
       "      <td>NaN</td>\n",
       "      <td>NaN</td>\n",
       "      <td>NaN</td>\n",
       "      <td>NaN</td>\n",
       "      <td>NaN</td>\n",
       "      <td>NaN</td>\n",
       "      <td>...</td>\n",
       "      <td>NaN</td>\n",
       "      <td>NaN</td>\n",
       "      <td>NaN</td>\n",
       "      <td>NaN</td>\n",
       "      <td>NaN</td>\n",
       "      <td>NaN</td>\n",
       "      <td>NaN</td>\n",
       "      <td>NaN</td>\n",
       "      <td>NaN</td>\n",
       "      <td>NaN</td>\n",
       "    </tr>\n",
       "    <tr>\n",
       "      <th>zlad!</th>\n",
       "      <td>NaN</td>\n",
       "      <td>NaN</td>\n",
       "      <td>NaN</td>\n",
       "      <td>NaN</td>\n",
       "      <td>NaN</td>\n",
       "      <td>NaN</td>\n",
       "      <td>NaN</td>\n",
       "      <td>NaN</td>\n",
       "      <td>NaN</td>\n",
       "      <td>NaN</td>\n",
       "      <td>...</td>\n",
       "      <td>NaN</td>\n",
       "      <td>NaN</td>\n",
       "      <td>NaN</td>\n",
       "      <td>NaN</td>\n",
       "      <td>NaN</td>\n",
       "      <td>NaN</td>\n",
       "      <td>NaN</td>\n",
       "      <td>NaN</td>\n",
       "      <td>NaN</td>\n",
       "      <td>NaN</td>\n",
       "    </tr>\n",
       "    <tr>\n",
       "      <th>zo%c3%a9</th>\n",
       "      <td>NaN</td>\n",
       "      <td>NaN</td>\n",
       "      <td>NaN</td>\n",
       "      <td>NaN</td>\n",
       "      <td>NaN</td>\n",
       "      <td>NaN</td>\n",
       "      <td>NaN</td>\n",
       "      <td>NaN</td>\n",
       "      <td>NaN</td>\n",
       "      <td>NaN</td>\n",
       "      <td>...</td>\n",
       "      <td>NaN</td>\n",
       "      <td>NaN</td>\n",
       "      <td>NaN</td>\n",
       "      <td>NaN</td>\n",
       "      <td>NaN</td>\n",
       "      <td>NaN</td>\n",
       "      <td>NaN</td>\n",
       "      <td>NaN</td>\n",
       "      <td>NaN</td>\n",
       "      <td>NaN</td>\n",
       "    </tr>\n",
       "    <tr>\n",
       "      <th>zoe</th>\n",
       "      <td>NaN</td>\n",
       "      <td>NaN</td>\n",
       "      <td>NaN</td>\n",
       "      <td>NaN</td>\n",
       "      <td>NaN</td>\n",
       "      <td>NaN</td>\n",
       "      <td>NaN</td>\n",
       "      <td>NaN</td>\n",
       "      <td>NaN</td>\n",
       "      <td>NaN</td>\n",
       "      <td>...</td>\n",
       "      <td>NaN</td>\n",
       "      <td>NaN</td>\n",
       "      <td>NaN</td>\n",
       "      <td>NaN</td>\n",
       "      <td>NaN</td>\n",
       "      <td>NaN</td>\n",
       "      <td>NaN</td>\n",
       "      <td>NaN</td>\n",
       "      <td>NaN</td>\n",
       "      <td>NaN</td>\n",
       "    </tr>\n",
       "    <tr>\n",
       "      <th>zomboy</th>\n",
       "      <td>NaN</td>\n",
       "      <td>NaN</td>\n",
       "      <td>NaN</td>\n",
       "      <td>NaN</td>\n",
       "      <td>NaN</td>\n",
       "      <td>NaN</td>\n",
       "      <td>NaN</td>\n",
       "      <td>NaN</td>\n",
       "      <td>NaN</td>\n",
       "      <td>NaN</td>\n",
       "      <td>...</td>\n",
       "      <td>NaN</td>\n",
       "      <td>NaN</td>\n",
       "      <td>NaN</td>\n",
       "      <td>NaN</td>\n",
       "      <td>NaN</td>\n",
       "      <td>NaN</td>\n",
       "      <td>NaN</td>\n",
       "      <td>NaN</td>\n",
       "      <td>NaN</td>\n",
       "      <td>NaN</td>\n",
       "    </tr>\n",
       "    <tr>\n",
       "      <th>zox</th>\n",
       "      <td>NaN</td>\n",
       "      <td>NaN</td>\n",
       "      <td>NaN</td>\n",
       "      <td>NaN</td>\n",
       "      <td>NaN</td>\n",
       "      <td>NaN</td>\n",
       "      <td>NaN</td>\n",
       "      <td>NaN</td>\n",
       "      <td>NaN</td>\n",
       "      <td>NaN</td>\n",
       "      <td>...</td>\n",
       "      <td>NaN</td>\n",
       "      <td>NaN</td>\n",
       "      <td>NaN</td>\n",
       "      <td>NaN</td>\n",
       "      <td>NaN</td>\n",
       "      <td>NaN</td>\n",
       "      <td>NaN</td>\n",
       "      <td>NaN</td>\n",
       "      <td>NaN</td>\n",
       "      <td>NaN</td>\n",
       "    </tr>\n",
       "    <tr>\n",
       "      <th>zurdok</th>\n",
       "      <td>NaN</td>\n",
       "      <td>NaN</td>\n",
       "      <td>NaN</td>\n",
       "      <td>NaN</td>\n",
       "      <td>NaN</td>\n",
       "      <td>NaN</td>\n",
       "      <td>NaN</td>\n",
       "      <td>NaN</td>\n",
       "      <td>NaN</td>\n",
       "      <td>NaN</td>\n",
       "      <td>...</td>\n",
       "      <td>NaN</td>\n",
       "      <td>NaN</td>\n",
       "      <td>NaN</td>\n",
       "      <td>NaN</td>\n",
       "      <td>NaN</td>\n",
       "      <td>NaN</td>\n",
       "      <td>NaN</td>\n",
       "      <td>NaN</td>\n",
       "      <td>NaN</td>\n",
       "      <td>NaN</td>\n",
       "    </tr>\n",
       "  </tbody>\n",
       "</table>\n",
       "<p>10 rows × 58668 columns</p>\n",
       "</div>"
      ],
      "text/plain": [
       "timestamp                         2007-02-24 22:54:28  2007-02-24 22:59:07  \\\n",
       "artist                                                                       \n",
       "zero+7                                            NaN                  NaN   \n",
       "zero+down                                         NaN                  NaN   \n",
       "ziggy+marley                                      NaN                  NaN   \n",
       "ziggy+marley+&+the+melody+makers                  NaN                  NaN   \n",
       "zlad!                                             NaN                  NaN   \n",
       "zo%c3%a9                                          NaN                  NaN   \n",
       "zoe                                               NaN                  NaN   \n",
       "zomboy                                            NaN                  NaN   \n",
       "zox                                               NaN                  NaN   \n",
       "zurdok                                            NaN                  NaN   \n",
       "\n",
       "timestamp                         2007-02-24 23:01:54  2007-02-25 01:55:39  \\\n",
       "artist                                                                       \n",
       "zero+7                                            NaN                  NaN   \n",
       "zero+down                                         NaN                  NaN   \n",
       "ziggy+marley                                      NaN                  NaN   \n",
       "ziggy+marley+&+the+melody+makers                  NaN                  NaN   \n",
       "zlad!                                             NaN                  NaN   \n",
       "zo%c3%a9                                          NaN                  NaN   \n",
       "zoe                                               NaN                  NaN   \n",
       "zomboy                                            NaN                  NaN   \n",
       "zox                                               NaN                  NaN   \n",
       "zurdok                                            NaN                  NaN   \n",
       "\n",
       "timestamp                         2007-02-25 02:00:36  2007-02-25 02:03:25  \\\n",
       "artist                                                                       \n",
       "zero+7                                            NaN                  NaN   \n",
       "zero+down                                         NaN                  NaN   \n",
       "ziggy+marley                                      NaN                  NaN   \n",
       "ziggy+marley+&+the+melody+makers                  NaN                  NaN   \n",
       "zlad!                                             NaN                  NaN   \n",
       "zo%c3%a9                                          NaN                  NaN   \n",
       "zoe                                               NaN                  NaN   \n",
       "zomboy                                            NaN                  NaN   \n",
       "zox                                               NaN                  NaN   \n",
       "zurdok                                            NaN                  NaN   \n",
       "\n",
       "timestamp                         2007-02-25 02:05:00  2007-02-25 02:09:16  \\\n",
       "artist                                                                       \n",
       "zero+7                                            NaN                  NaN   \n",
       "zero+down                                         NaN                  NaN   \n",
       "ziggy+marley                                      NaN                  NaN   \n",
       "ziggy+marley+&+the+melody+makers                  NaN                  NaN   \n",
       "zlad!                                             NaN                  NaN   \n",
       "zo%c3%a9                                          NaN                  NaN   \n",
       "zoe                                               NaN                  NaN   \n",
       "zomboy                                            NaN                  NaN   \n",
       "zox                                               NaN                  NaN   \n",
       "zurdok                                            NaN                  NaN   \n",
       "\n",
       "timestamp                         2007-02-25 02:12:30  2007-02-25 02:15:22  \\\n",
       "artist                                                                       \n",
       "zero+7                                            NaN                  NaN   \n",
       "zero+down                                         NaN                  NaN   \n",
       "ziggy+marley                                      NaN                  NaN   \n",
       "ziggy+marley+&+the+melody+makers                  NaN                  NaN   \n",
       "zlad!                                             NaN                  NaN   \n",
       "zo%c3%a9                                          NaN                  NaN   \n",
       "zoe                                               NaN                  NaN   \n",
       "zomboy                                            NaN                  NaN   \n",
       "zox                                               NaN                  NaN   \n",
       "zurdok                                            NaN                  NaN   \n",
       "\n",
       "timestamp                                ...           2012-12-28 17:12:03  \\\n",
       "artist                                   ...                                 \n",
       "zero+7                                   ...                           NaN   \n",
       "zero+down                                ...                           NaN   \n",
       "ziggy+marley                             ...                           NaN   \n",
       "ziggy+marley+&+the+melody+makers         ...                           NaN   \n",
       "zlad!                                    ...                           NaN   \n",
       "zo%c3%a9                                 ...                           NaN   \n",
       "zoe                                      ...                           NaN   \n",
       "zomboy                                   ...                           NaN   \n",
       "zox                                      ...                           NaN   \n",
       "zurdok                                   ...                           NaN   \n",
       "\n",
       "timestamp                         2012-12-28 17:19:03  2012-12-29 21:55:51  \\\n",
       "artist                                                                       \n",
       "zero+7                                            NaN                  NaN   \n",
       "zero+down                                         NaN                  NaN   \n",
       "ziggy+marley                                      NaN                  NaN   \n",
       "ziggy+marley+&+the+melody+makers                  NaN                  NaN   \n",
       "zlad!                                             NaN                  NaN   \n",
       "zo%c3%a9                                          NaN                  NaN   \n",
       "zoe                                               NaN                  NaN   \n",
       "zomboy                                            NaN                  NaN   \n",
       "zox                                               NaN                  NaN   \n",
       "zurdok                                            NaN                  NaN   \n",
       "\n",
       "timestamp                         2012-12-29 21:59:43  2012-12-29 22:03:41  \\\n",
       "artist                                                                       \n",
       "zero+7                                            NaN                  NaN   \n",
       "zero+down                                         NaN                  NaN   \n",
       "ziggy+marley                                      NaN                  NaN   \n",
       "ziggy+marley+&+the+melody+makers                  NaN                  NaN   \n",
       "zlad!                                             NaN                  NaN   \n",
       "zo%c3%a9                                          NaN                  NaN   \n",
       "zoe                                               NaN                  NaN   \n",
       "zomboy                                            NaN                  NaN   \n",
       "zox                                               NaN                  NaN   \n",
       "zurdok                                            NaN                  NaN   \n",
       "\n",
       "timestamp                         2012-12-29 22:06:38  2012-12-29 22:09:57  \\\n",
       "artist                                                                       \n",
       "zero+7                                            NaN                  NaN   \n",
       "zero+down                                         NaN                  NaN   \n",
       "ziggy+marley                                      NaN                  NaN   \n",
       "ziggy+marley+&+the+melody+makers                  NaN                  NaN   \n",
       "zlad!                                             NaN                  NaN   \n",
       "zo%c3%a9                                          NaN                  NaN   \n",
       "zoe                                               NaN                  NaN   \n",
       "zomboy                                            NaN                  NaN   \n",
       "zox                                               NaN                  NaN   \n",
       "zurdok                                            NaN                  NaN   \n",
       "\n",
       "timestamp                         2012-12-29 22:13:33  2012-12-29 22:16:42  \\\n",
       "artist                                                                       \n",
       "zero+7                                            NaN                  NaN   \n",
       "zero+down                                         NaN                  NaN   \n",
       "ziggy+marley                                      NaN                  NaN   \n",
       "ziggy+marley+&+the+melody+makers                  NaN                  NaN   \n",
       "zlad!                                             NaN                  NaN   \n",
       "zo%c3%a9                                          NaN                  NaN   \n",
       "zoe                                               NaN                  NaN   \n",
       "zomboy                                            NaN                  NaN   \n",
       "zox                                               NaN                  NaN   \n",
       "zurdok                                            NaN                  NaN   \n",
       "\n",
       "timestamp                         2012-12-29 22:20:38  \n",
       "artist                                                 \n",
       "zero+7                                            NaN  \n",
       "zero+down                                         NaN  \n",
       "ziggy+marley                                      NaN  \n",
       "ziggy+marley+&+the+melody+makers                  NaN  \n",
       "zlad!                                             NaN  \n",
       "zo%c3%a9                                          NaN  \n",
       "zoe                                               NaN  \n",
       "zomboy                                            NaN  \n",
       "zox                                               NaN  \n",
       "zurdok                                            NaN  \n",
       "\n",
       "[10 rows x 58668 columns]"
      ]
     },
     "execution_count": 27,
     "metadata": {},
     "output_type": "execute_result"
    }
   ],
   "source": [
    "monthly_listens_by_artist = monthly_listens_by_artist.unstack()\n",
    "monthly_listens_by_artist.tail(10)"
   ]
  },
  {
   "cell_type": "code",
   "execution_count": 28,
   "metadata": {
    "collapsed": false,
    "slideshow": {
     "slide_type": "subslide"
    }
   },
   "outputs": [
    {
     "data": {
      "text/plain": [
       "artist\n",
       "zero+7                              8\n",
       "zero+down                           6\n",
       "ziggy+marley                        1\n",
       "ziggy+marley+&+the+melody+makers    4\n",
       "zlad!                               6\n",
       "zo%c3%a9                            9\n",
       "zoe                                 2\n",
       "zomboy                              3\n",
       "zox                                 1\n",
       "zurdok                              5\n",
       "dtype: float64"
      ]
     },
     "execution_count": 28,
     "metadata": {},
     "output_type": "execute_result"
    }
   ],
   "source": [
    "monthly_listens_by_artist.sum(axis=1).tail(10)"
   ]
  },
  {
   "cell_type": "code",
   "execution_count": 29,
   "metadata": {
    "collapsed": false,
    "slideshow": {
     "slide_type": "subslide"
    }
   },
   "outputs": [
    {
     "data": {
      "text/plain": [
       "sigur+r%c3%b3s     2370\n",
       "radiohead          1750\n",
       "the+mars+volta     1477\n",
       "nine+inch+nails    1417\n",
       "mogwai             1221\n",
       "dtype: int64"
      ]
     },
     "execution_count": 29,
     "metadata": {},
     "output_type": "execute_result"
    }
   ],
   "source": [
    "top_artists = data['artist'].value_counts()[:5]\n",
    "top_artists"
   ]
  },
  {
   "cell_type": "code",
   "execution_count": 30,
   "metadata": {
    "collapsed": false,
    "slideshow": {
     "slide_type": "fragment"
    }
   },
   "outputs": [
    {
     "data": {
      "text/html": [
       "<div>\n",
       "<table border=\"1\" class=\"dataframe\">\n",
       "  <thead>\n",
       "    <tr style=\"text-align: right;\">\n",
       "      <th>timestamp</th>\n",
       "      <th>2007-02-24 22:54:28</th>\n",
       "      <th>2007-02-24 22:59:07</th>\n",
       "      <th>2007-02-24 23:01:54</th>\n",
       "      <th>2007-02-25 01:55:39</th>\n",
       "      <th>2007-02-25 02:00:36</th>\n",
       "      <th>2007-02-25 02:03:25</th>\n",
       "      <th>2007-02-25 02:05:00</th>\n",
       "      <th>2007-02-25 02:09:16</th>\n",
       "      <th>2007-02-25 02:12:30</th>\n",
       "      <th>2007-02-25 02:15:22</th>\n",
       "      <th>...</th>\n",
       "      <th>2012-12-28 17:12:03</th>\n",
       "      <th>2012-12-28 17:19:03</th>\n",
       "      <th>2012-12-29 21:55:51</th>\n",
       "      <th>2012-12-29 21:59:43</th>\n",
       "      <th>2012-12-29 22:03:41</th>\n",
       "      <th>2012-12-29 22:06:38</th>\n",
       "      <th>2012-12-29 22:09:57</th>\n",
       "      <th>2012-12-29 22:13:33</th>\n",
       "      <th>2012-12-29 22:16:42</th>\n",
       "      <th>2012-12-29 22:20:38</th>\n",
       "    </tr>\n",
       "  </thead>\n",
       "  <tbody>\n",
       "    <tr>\n",
       "      <th>sigur+r%c3%b3s</th>\n",
       "      <td>NaN</td>\n",
       "      <td>NaN</td>\n",
       "      <td>NaN</td>\n",
       "      <td>NaN</td>\n",
       "      <td>NaN</td>\n",
       "      <td>NaN</td>\n",
       "      <td>NaN</td>\n",
       "      <td>NaN</td>\n",
       "      <td>NaN</td>\n",
       "      <td>NaN</td>\n",
       "      <td>...</td>\n",
       "      <td>1</td>\n",
       "      <td>1</td>\n",
       "      <td>NaN</td>\n",
       "      <td>NaN</td>\n",
       "      <td>NaN</td>\n",
       "      <td>NaN</td>\n",
       "      <td>NaN</td>\n",
       "      <td>NaN</td>\n",
       "      <td>NaN</td>\n",
       "      <td>NaN</td>\n",
       "    </tr>\n",
       "    <tr>\n",
       "      <th>radiohead</th>\n",
       "      <td>NaN</td>\n",
       "      <td>NaN</td>\n",
       "      <td>NaN</td>\n",
       "      <td>NaN</td>\n",
       "      <td>NaN</td>\n",
       "      <td>NaN</td>\n",
       "      <td>NaN</td>\n",
       "      <td>NaN</td>\n",
       "      <td>NaN</td>\n",
       "      <td>NaN</td>\n",
       "      <td>...</td>\n",
       "      <td>NaN</td>\n",
       "      <td>NaN</td>\n",
       "      <td>NaN</td>\n",
       "      <td>NaN</td>\n",
       "      <td>NaN</td>\n",
       "      <td>NaN</td>\n",
       "      <td>NaN</td>\n",
       "      <td>NaN</td>\n",
       "      <td>NaN</td>\n",
       "      <td>NaN</td>\n",
       "    </tr>\n",
       "    <tr>\n",
       "      <th>the+mars+volta</th>\n",
       "      <td>NaN</td>\n",
       "      <td>NaN</td>\n",
       "      <td>NaN</td>\n",
       "      <td>NaN</td>\n",
       "      <td>NaN</td>\n",
       "      <td>NaN</td>\n",
       "      <td>NaN</td>\n",
       "      <td>NaN</td>\n",
       "      <td>NaN</td>\n",
       "      <td>NaN</td>\n",
       "      <td>...</td>\n",
       "      <td>NaN</td>\n",
       "      <td>NaN</td>\n",
       "      <td>NaN</td>\n",
       "      <td>NaN</td>\n",
       "      <td>NaN</td>\n",
       "      <td>NaN</td>\n",
       "      <td>NaN</td>\n",
       "      <td>NaN</td>\n",
       "      <td>NaN</td>\n",
       "      <td>NaN</td>\n",
       "    </tr>\n",
       "    <tr>\n",
       "      <th>nine+inch+nails</th>\n",
       "      <td>NaN</td>\n",
       "      <td>NaN</td>\n",
       "      <td>NaN</td>\n",
       "      <td>NaN</td>\n",
       "      <td>NaN</td>\n",
       "      <td>NaN</td>\n",
       "      <td>NaN</td>\n",
       "      <td>NaN</td>\n",
       "      <td>NaN</td>\n",
       "      <td>NaN</td>\n",
       "      <td>...</td>\n",
       "      <td>NaN</td>\n",
       "      <td>NaN</td>\n",
       "      <td>NaN</td>\n",
       "      <td>NaN</td>\n",
       "      <td>NaN</td>\n",
       "      <td>NaN</td>\n",
       "      <td>NaN</td>\n",
       "      <td>NaN</td>\n",
       "      <td>NaN</td>\n",
       "      <td>NaN</td>\n",
       "    </tr>\n",
       "    <tr>\n",
       "      <th>mogwai</th>\n",
       "      <td>NaN</td>\n",
       "      <td>NaN</td>\n",
       "      <td>NaN</td>\n",
       "      <td>NaN</td>\n",
       "      <td>NaN</td>\n",
       "      <td>NaN</td>\n",
       "      <td>NaN</td>\n",
       "      <td>NaN</td>\n",
       "      <td>NaN</td>\n",
       "      <td>NaN</td>\n",
       "      <td>...</td>\n",
       "      <td>NaN</td>\n",
       "      <td>NaN</td>\n",
       "      <td>NaN</td>\n",
       "      <td>NaN</td>\n",
       "      <td>NaN</td>\n",
       "      <td>NaN</td>\n",
       "      <td>NaN</td>\n",
       "      <td>NaN</td>\n",
       "      <td>NaN</td>\n",
       "      <td>NaN</td>\n",
       "    </tr>\n",
       "  </tbody>\n",
       "</table>\n",
       "<p>5 rows × 58668 columns</p>\n",
       "</div>"
      ],
      "text/plain": [
       "timestamp        2007-02-24 22:54:28  2007-02-24 22:59:07  \\\n",
       "sigur+r%c3%b3s                   NaN                  NaN   \n",
       "radiohead                        NaN                  NaN   \n",
       "the+mars+volta                   NaN                  NaN   \n",
       "nine+inch+nails                  NaN                  NaN   \n",
       "mogwai                           NaN                  NaN   \n",
       "\n",
       "timestamp        2007-02-24 23:01:54  2007-02-25 01:55:39  \\\n",
       "sigur+r%c3%b3s                   NaN                  NaN   \n",
       "radiohead                        NaN                  NaN   \n",
       "the+mars+volta                   NaN                  NaN   \n",
       "nine+inch+nails                  NaN                  NaN   \n",
       "mogwai                           NaN                  NaN   \n",
       "\n",
       "timestamp        2007-02-25 02:00:36  2007-02-25 02:03:25  \\\n",
       "sigur+r%c3%b3s                   NaN                  NaN   \n",
       "radiohead                        NaN                  NaN   \n",
       "the+mars+volta                   NaN                  NaN   \n",
       "nine+inch+nails                  NaN                  NaN   \n",
       "mogwai                           NaN                  NaN   \n",
       "\n",
       "timestamp        2007-02-25 02:05:00  2007-02-25 02:09:16  \\\n",
       "sigur+r%c3%b3s                   NaN                  NaN   \n",
       "radiohead                        NaN                  NaN   \n",
       "the+mars+volta                   NaN                  NaN   \n",
       "nine+inch+nails                  NaN                  NaN   \n",
       "mogwai                           NaN                  NaN   \n",
       "\n",
       "timestamp        2007-02-25 02:12:30  2007-02-25 02:15:22  \\\n",
       "sigur+r%c3%b3s                   NaN                  NaN   \n",
       "radiohead                        NaN                  NaN   \n",
       "the+mars+volta                   NaN                  NaN   \n",
       "nine+inch+nails                  NaN                  NaN   \n",
       "mogwai                           NaN                  NaN   \n",
       "\n",
       "timestamp               ...           2012-12-28 17:12:03  \\\n",
       "sigur+r%c3%b3s          ...                             1   \n",
       "radiohead               ...                           NaN   \n",
       "the+mars+volta          ...                           NaN   \n",
       "nine+inch+nails         ...                           NaN   \n",
       "mogwai                  ...                           NaN   \n",
       "\n",
       "timestamp        2012-12-28 17:19:03  2012-12-29 21:55:51  \\\n",
       "sigur+r%c3%b3s                     1                  NaN   \n",
       "radiohead                        NaN                  NaN   \n",
       "the+mars+volta                   NaN                  NaN   \n",
       "nine+inch+nails                  NaN                  NaN   \n",
       "mogwai                           NaN                  NaN   \n",
       "\n",
       "timestamp        2012-12-29 21:59:43  2012-12-29 22:03:41  \\\n",
       "sigur+r%c3%b3s                   NaN                  NaN   \n",
       "radiohead                        NaN                  NaN   \n",
       "the+mars+volta                   NaN                  NaN   \n",
       "nine+inch+nails                  NaN                  NaN   \n",
       "mogwai                           NaN                  NaN   \n",
       "\n",
       "timestamp        2012-12-29 22:06:38  2012-12-29 22:09:57  \\\n",
       "sigur+r%c3%b3s                   NaN                  NaN   \n",
       "radiohead                        NaN                  NaN   \n",
       "the+mars+volta                   NaN                  NaN   \n",
       "nine+inch+nails                  NaN                  NaN   \n",
       "mogwai                           NaN                  NaN   \n",
       "\n",
       "timestamp        2012-12-29 22:13:33  2012-12-29 22:16:42  2012-12-29 22:20:38  \n",
       "sigur+r%c3%b3s                   NaN                  NaN                  NaN  \n",
       "radiohead                        NaN                  NaN                  NaN  \n",
       "the+mars+volta                   NaN                  NaN                  NaN  \n",
       "nine+inch+nails                  NaN                  NaN                  NaN  \n",
       "mogwai                           NaN                  NaN                  NaN  \n",
       "\n",
       "[5 rows x 58668 columns]"
      ]
     },
     "execution_count": 30,
     "metadata": {},
     "output_type": "execute_result"
    }
   ],
   "source": [
    "monthly_listens_by_artist.reindex(top_artists.index)"
   ]
  },
  {
   "cell_type": "code",
   "execution_count": 31,
   "metadata": {
    "collapsed": false,
    "slideshow": {
     "slide_type": "subslide"
    }
   },
   "outputs": [
    {
     "data": {
      "text/html": [
       "<div>\n",
       "<table border=\"1\" class=\"dataframe\">\n",
       "  <thead>\n",
       "    <tr style=\"text-align: right;\">\n",
       "      <th>timestamp</th>\n",
       "      <th>2007-02-24 22:54:28</th>\n",
       "      <th>2007-02-24 22:59:07</th>\n",
       "      <th>2007-02-24 23:01:54</th>\n",
       "      <th>2007-02-25 01:55:39</th>\n",
       "      <th>2007-02-25 02:00:36</th>\n",
       "      <th>2007-02-25 02:03:25</th>\n",
       "      <th>2007-02-25 02:05:00</th>\n",
       "      <th>2007-02-25 02:09:16</th>\n",
       "      <th>2007-02-25 02:12:30</th>\n",
       "      <th>2007-02-25 02:15:22</th>\n",
       "      <th>...</th>\n",
       "      <th>2012-12-28 17:12:03</th>\n",
       "      <th>2012-12-28 17:19:03</th>\n",
       "      <th>2012-12-29 21:55:51</th>\n",
       "      <th>2012-12-29 21:59:43</th>\n",
       "      <th>2012-12-29 22:03:41</th>\n",
       "      <th>2012-12-29 22:06:38</th>\n",
       "      <th>2012-12-29 22:09:57</th>\n",
       "      <th>2012-12-29 22:13:33</th>\n",
       "      <th>2012-12-29 22:16:42</th>\n",
       "      <th>2012-12-29 22:20:38</th>\n",
       "    </tr>\n",
       "  </thead>\n",
       "  <tbody>\n",
       "    <tr>\n",
       "      <th>sigur+r%c3%b3s</th>\n",
       "      <td>0</td>\n",
       "      <td>0</td>\n",
       "      <td>0</td>\n",
       "      <td>0</td>\n",
       "      <td>0</td>\n",
       "      <td>0</td>\n",
       "      <td>0</td>\n",
       "      <td>0</td>\n",
       "      <td>0</td>\n",
       "      <td>0</td>\n",
       "      <td>...</td>\n",
       "      <td>1</td>\n",
       "      <td>1</td>\n",
       "      <td>0</td>\n",
       "      <td>0</td>\n",
       "      <td>0</td>\n",
       "      <td>0</td>\n",
       "      <td>0</td>\n",
       "      <td>0</td>\n",
       "      <td>0</td>\n",
       "      <td>0</td>\n",
       "    </tr>\n",
       "    <tr>\n",
       "      <th>radiohead</th>\n",
       "      <td>0</td>\n",
       "      <td>0</td>\n",
       "      <td>0</td>\n",
       "      <td>0</td>\n",
       "      <td>0</td>\n",
       "      <td>0</td>\n",
       "      <td>0</td>\n",
       "      <td>0</td>\n",
       "      <td>0</td>\n",
       "      <td>0</td>\n",
       "      <td>...</td>\n",
       "      <td>0</td>\n",
       "      <td>0</td>\n",
       "      <td>0</td>\n",
       "      <td>0</td>\n",
       "      <td>0</td>\n",
       "      <td>0</td>\n",
       "      <td>0</td>\n",
       "      <td>0</td>\n",
       "      <td>0</td>\n",
       "      <td>0</td>\n",
       "    </tr>\n",
       "    <tr>\n",
       "      <th>the+mars+volta</th>\n",
       "      <td>0</td>\n",
       "      <td>0</td>\n",
       "      <td>0</td>\n",
       "      <td>0</td>\n",
       "      <td>0</td>\n",
       "      <td>0</td>\n",
       "      <td>0</td>\n",
       "      <td>0</td>\n",
       "      <td>0</td>\n",
       "      <td>0</td>\n",
       "      <td>...</td>\n",
       "      <td>0</td>\n",
       "      <td>0</td>\n",
       "      <td>0</td>\n",
       "      <td>0</td>\n",
       "      <td>0</td>\n",
       "      <td>0</td>\n",
       "      <td>0</td>\n",
       "      <td>0</td>\n",
       "      <td>0</td>\n",
       "      <td>0</td>\n",
       "    </tr>\n",
       "    <tr>\n",
       "      <th>nine+inch+nails</th>\n",
       "      <td>0</td>\n",
       "      <td>0</td>\n",
       "      <td>0</td>\n",
       "      <td>0</td>\n",
       "      <td>0</td>\n",
       "      <td>0</td>\n",
       "      <td>0</td>\n",
       "      <td>0</td>\n",
       "      <td>0</td>\n",
       "      <td>0</td>\n",
       "      <td>...</td>\n",
       "      <td>0</td>\n",
       "      <td>0</td>\n",
       "      <td>0</td>\n",
       "      <td>0</td>\n",
       "      <td>0</td>\n",
       "      <td>0</td>\n",
       "      <td>0</td>\n",
       "      <td>0</td>\n",
       "      <td>0</td>\n",
       "      <td>0</td>\n",
       "    </tr>\n",
       "    <tr>\n",
       "      <th>mogwai</th>\n",
       "      <td>0</td>\n",
       "      <td>0</td>\n",
       "      <td>0</td>\n",
       "      <td>0</td>\n",
       "      <td>0</td>\n",
       "      <td>0</td>\n",
       "      <td>0</td>\n",
       "      <td>0</td>\n",
       "      <td>0</td>\n",
       "      <td>0</td>\n",
       "      <td>...</td>\n",
       "      <td>0</td>\n",
       "      <td>0</td>\n",
       "      <td>0</td>\n",
       "      <td>0</td>\n",
       "      <td>0</td>\n",
       "      <td>0</td>\n",
       "      <td>0</td>\n",
       "      <td>0</td>\n",
       "      <td>0</td>\n",
       "      <td>0</td>\n",
       "    </tr>\n",
       "  </tbody>\n",
       "</table>\n",
       "<p>5 rows × 58668 columns</p>\n",
       "</div>"
      ],
      "text/plain": [
       "timestamp        2007-02-24 22:54:28  2007-02-24 22:59:07  \\\n",
       "sigur+r%c3%b3s                     0                    0   \n",
       "radiohead                          0                    0   \n",
       "the+mars+volta                     0                    0   \n",
       "nine+inch+nails                    0                    0   \n",
       "mogwai                             0                    0   \n",
       "\n",
       "timestamp        2007-02-24 23:01:54  2007-02-25 01:55:39  \\\n",
       "sigur+r%c3%b3s                     0                    0   \n",
       "radiohead                          0                    0   \n",
       "the+mars+volta                     0                    0   \n",
       "nine+inch+nails                    0                    0   \n",
       "mogwai                             0                    0   \n",
       "\n",
       "timestamp        2007-02-25 02:00:36  2007-02-25 02:03:25  \\\n",
       "sigur+r%c3%b3s                     0                    0   \n",
       "radiohead                          0                    0   \n",
       "the+mars+volta                     0                    0   \n",
       "nine+inch+nails                    0                    0   \n",
       "mogwai                             0                    0   \n",
       "\n",
       "timestamp        2007-02-25 02:05:00  2007-02-25 02:09:16  \\\n",
       "sigur+r%c3%b3s                     0                    0   \n",
       "radiohead                          0                    0   \n",
       "the+mars+volta                     0                    0   \n",
       "nine+inch+nails                    0                    0   \n",
       "mogwai                             0                    0   \n",
       "\n",
       "timestamp        2007-02-25 02:12:30  2007-02-25 02:15:22  \\\n",
       "sigur+r%c3%b3s                     0                    0   \n",
       "radiohead                          0                    0   \n",
       "the+mars+volta                     0                    0   \n",
       "nine+inch+nails                    0                    0   \n",
       "mogwai                             0                    0   \n",
       "\n",
       "timestamp               ...           2012-12-28 17:12:03  \\\n",
       "sigur+r%c3%b3s          ...                             1   \n",
       "radiohead               ...                             0   \n",
       "the+mars+volta          ...                             0   \n",
       "nine+inch+nails         ...                             0   \n",
       "mogwai                  ...                             0   \n",
       "\n",
       "timestamp        2012-12-28 17:19:03  2012-12-29 21:55:51  \\\n",
       "sigur+r%c3%b3s                     1                    0   \n",
       "radiohead                          0                    0   \n",
       "the+mars+volta                     0                    0   \n",
       "nine+inch+nails                    0                    0   \n",
       "mogwai                             0                    0   \n",
       "\n",
       "timestamp        2012-12-29 21:59:43  2012-12-29 22:03:41  \\\n",
       "sigur+r%c3%b3s                     0                    0   \n",
       "radiohead                          0                    0   \n",
       "the+mars+volta                     0                    0   \n",
       "nine+inch+nails                    0                    0   \n",
       "mogwai                             0                    0   \n",
       "\n",
       "timestamp        2012-12-29 22:06:38  2012-12-29 22:09:57  \\\n",
       "sigur+r%c3%b3s                     0                    0   \n",
       "radiohead                          0                    0   \n",
       "the+mars+volta                     0                    0   \n",
       "nine+inch+nails                    0                    0   \n",
       "mogwai                             0                    0   \n",
       "\n",
       "timestamp        2012-12-29 22:13:33  2012-12-29 22:16:42  2012-12-29 22:20:38  \n",
       "sigur+r%c3%b3s                     0                    0                    0  \n",
       "radiohead                          0                    0                    0  \n",
       "the+mars+volta                     0                    0                    0  \n",
       "nine+inch+nails                    0                    0                    0  \n",
       "mogwai                             0                    0                    0  \n",
       "\n",
       "[5 rows x 58668 columns]"
      ]
     },
     "execution_count": 31,
     "metadata": {},
     "output_type": "execute_result"
    }
   ],
   "source": [
    "monthly_listens_by_artist.reindex(top_artists.index).fillna(0)"
   ]
  },
  {
   "cell_type": "code",
   "execution_count": 32,
   "metadata": {
    "collapsed": false,
    "scrolled": true,
    "slideshow": {
     "slide_type": "subslide"
    }
   },
   "outputs": [
    {
     "data": {
      "text/html": [
       "<div>\n",
       "<table border=\"1\" class=\"dataframe\">\n",
       "  <thead>\n",
       "    <tr style=\"text-align: right;\">\n",
       "      <th></th>\n",
       "      <th>sigur+r%c3%b3s</th>\n",
       "      <th>radiohead</th>\n",
       "      <th>the+mars+volta</th>\n",
       "      <th>nine+inch+nails</th>\n",
       "      <th>mogwai</th>\n",
       "    </tr>\n",
       "    <tr>\n",
       "      <th>timestamp</th>\n",
       "      <th></th>\n",
       "      <th></th>\n",
       "      <th></th>\n",
       "      <th></th>\n",
       "      <th></th>\n",
       "    </tr>\n",
       "  </thead>\n",
       "  <tbody>\n",
       "    <tr>\n",
       "      <th>2007-02-24 22:54:28</th>\n",
       "      <td>0</td>\n",
       "      <td>0</td>\n",
       "      <td>0</td>\n",
       "      <td>0</td>\n",
       "      <td>0</td>\n",
       "    </tr>\n",
       "    <tr>\n",
       "      <th>2007-02-24 22:59:07</th>\n",
       "      <td>0</td>\n",
       "      <td>0</td>\n",
       "      <td>0</td>\n",
       "      <td>0</td>\n",
       "      <td>0</td>\n",
       "    </tr>\n",
       "    <tr>\n",
       "      <th>2007-02-24 23:01:54</th>\n",
       "      <td>0</td>\n",
       "      <td>0</td>\n",
       "      <td>0</td>\n",
       "      <td>0</td>\n",
       "      <td>0</td>\n",
       "    </tr>\n",
       "    <tr>\n",
       "      <th>2007-02-25 01:55:39</th>\n",
       "      <td>0</td>\n",
       "      <td>0</td>\n",
       "      <td>0</td>\n",
       "      <td>0</td>\n",
       "      <td>0</td>\n",
       "    </tr>\n",
       "    <tr>\n",
       "      <th>2007-02-25 02:00:36</th>\n",
       "      <td>0</td>\n",
       "      <td>0</td>\n",
       "      <td>0</td>\n",
       "      <td>0</td>\n",
       "      <td>0</td>\n",
       "    </tr>\n",
       "    <tr>\n",
       "      <th>2007-02-25 02:03:25</th>\n",
       "      <td>0</td>\n",
       "      <td>0</td>\n",
       "      <td>0</td>\n",
       "      <td>0</td>\n",
       "      <td>0</td>\n",
       "    </tr>\n",
       "    <tr>\n",
       "      <th>2007-02-25 02:05:00</th>\n",
       "      <td>0</td>\n",
       "      <td>0</td>\n",
       "      <td>0</td>\n",
       "      <td>0</td>\n",
       "      <td>0</td>\n",
       "    </tr>\n",
       "    <tr>\n",
       "      <th>2007-02-25 02:09:16</th>\n",
       "      <td>0</td>\n",
       "      <td>0</td>\n",
       "      <td>0</td>\n",
       "      <td>0</td>\n",
       "      <td>0</td>\n",
       "    </tr>\n",
       "    <tr>\n",
       "      <th>2007-02-25 02:12:30</th>\n",
       "      <td>0</td>\n",
       "      <td>0</td>\n",
       "      <td>0</td>\n",
       "      <td>0</td>\n",
       "      <td>0</td>\n",
       "    </tr>\n",
       "    <tr>\n",
       "      <th>2007-02-25 02:15:22</th>\n",
       "      <td>0</td>\n",
       "      <td>0</td>\n",
       "      <td>0</td>\n",
       "      <td>0</td>\n",
       "      <td>0</td>\n",
       "    </tr>\n",
       "  </tbody>\n",
       "</table>\n",
       "</div>"
      ],
      "text/plain": [
       "                     sigur+r%c3%b3s  radiohead  the+mars+volta  \\\n",
       "timestamp                                                        \n",
       "2007-02-24 22:54:28               0          0               0   \n",
       "2007-02-24 22:59:07               0          0               0   \n",
       "2007-02-24 23:01:54               0          0               0   \n",
       "2007-02-25 01:55:39               0          0               0   \n",
       "2007-02-25 02:00:36               0          0               0   \n",
       "2007-02-25 02:03:25               0          0               0   \n",
       "2007-02-25 02:05:00               0          0               0   \n",
       "2007-02-25 02:09:16               0          0               0   \n",
       "2007-02-25 02:12:30               0          0               0   \n",
       "2007-02-25 02:15:22               0          0               0   \n",
       "\n",
       "                     nine+inch+nails  mogwai  \n",
       "timestamp                                     \n",
       "2007-02-24 22:54:28                0       0  \n",
       "2007-02-24 22:59:07                0       0  \n",
       "2007-02-24 23:01:54                0       0  \n",
       "2007-02-25 01:55:39                0       0  \n",
       "2007-02-25 02:00:36                0       0  \n",
       "2007-02-25 02:03:25                0       0  \n",
       "2007-02-25 02:05:00                0       0  \n",
       "2007-02-25 02:09:16                0       0  \n",
       "2007-02-25 02:12:30                0       0  \n",
       "2007-02-25 02:15:22                0       0  "
      ]
     },
     "execution_count": 32,
     "metadata": {},
     "output_type": "execute_result"
    }
   ],
   "source": [
    "monthly_listens_by_artist.reindex(top_artists.index).fillna(0).T.head(10)"
   ]
  },
  {
   "cell_type": "code",
   "execution_count": 33,
   "metadata": {
    "collapsed": false,
    "slideshow": {
     "slide_type": "subslide"
    }
   },
   "outputs": [
    {
     "data": {
      "text/html": [
       "<div>\n",
       "<table border=\"1\" class=\"dataframe\">\n",
       "  <thead>\n",
       "    <tr style=\"text-align: right;\">\n",
       "      <th></th>\n",
       "      <th>sigur+r%c3%b3s</th>\n",
       "      <th>radiohead</th>\n",
       "      <th>the+mars+volta</th>\n",
       "      <th>nine+inch+nails</th>\n",
       "      <th>mogwai</th>\n",
       "    </tr>\n",
       "    <tr>\n",
       "      <th>timestamp</th>\n",
       "      <th></th>\n",
       "      <th></th>\n",
       "      <th></th>\n",
       "      <th></th>\n",
       "      <th></th>\n",
       "    </tr>\n",
       "  </thead>\n",
       "  <tbody>\n",
       "    <tr>\n",
       "      <th>2007-02-28</th>\n",
       "      <td>1</td>\n",
       "      <td>3</td>\n",
       "      <td>16</td>\n",
       "      <td>0</td>\n",
       "      <td>2</td>\n",
       "    </tr>\n",
       "    <tr>\n",
       "      <th>2007-03-31</th>\n",
       "      <td>0</td>\n",
       "      <td>22</td>\n",
       "      <td>2</td>\n",
       "      <td>1</td>\n",
       "      <td>13</td>\n",
       "    </tr>\n",
       "    <tr>\n",
       "      <th>2007-04-30</th>\n",
       "      <td>1</td>\n",
       "      <td>48</td>\n",
       "      <td>2</td>\n",
       "      <td>24</td>\n",
       "      <td>11</td>\n",
       "    </tr>\n",
       "    <tr>\n",
       "      <th>2007-05-31</th>\n",
       "      <td>2</td>\n",
       "      <td>14</td>\n",
       "      <td>1</td>\n",
       "      <td>61</td>\n",
       "      <td>25</td>\n",
       "    </tr>\n",
       "    <tr>\n",
       "      <th>2007-06-30</th>\n",
       "      <td>1</td>\n",
       "      <td>43</td>\n",
       "      <td>3</td>\n",
       "      <td>6</td>\n",
       "      <td>1</td>\n",
       "    </tr>\n",
       "  </tbody>\n",
       "</table>\n",
       "</div>"
      ],
      "text/plain": [
       "            sigur+r%c3%b3s  radiohead  the+mars+volta  nine+inch+nails  mogwai\n",
       "timestamp                                                                     \n",
       "2007-02-28               1          3              16                0       2\n",
       "2007-03-31               0         22               2                1      13\n",
       "2007-04-30               1         48               2               24      11\n",
       "2007-05-31               2         14               1               61      25\n",
       "2007-06-30               1         43               3                6       1"
      ]
     },
     "execution_count": 33,
     "metadata": {},
     "output_type": "execute_result"
    }
   ],
   "source": [
    "to_plot = monthly_listens_by_artist.reindex(top_artists.index).fillna(0).T.resample('M',how='sum')\n",
    "to_plot.head()"
   ]
  },
  {
   "cell_type": "code",
   "execution_count": 34,
   "metadata": {
    "collapsed": false,
    "slideshow": {
     "slide_type": "subslide"
    }
   },
   "outputs": [
    {
     "data": {
      "text/plain": [
       "<matplotlib.axes._subplots.AxesSubplot at 0x10a6b54d0>"
      ]
     },
     "execution_count": 34,
     "metadata": {},
     "output_type": "execute_result"
    },
    {
     "data": {
      "image/png": "[encoded data removed]",
      "text/plain": [
       "<matplotlib.figure.Figure at 0x10ad86a90>"
      ]
     },
     "metadata": {},
     "output_type": "display_data"
    }
   ],
   "source": [
    "to_plot.plot()"
   ]
  },
  {
   "cell_type": "code",
   "execution_count": 35,
   "metadata": {
    "collapsed": false,
    "slideshow": {
     "slide_type": "fragment"
    }
   },
   "outputs": [
    {
     "data": {
      "text/plain": [
       "<matplotlib.axes._subplots.AxesSubplot at 0x14cc51850>"
      ]
     },
     "execution_count": 35,
     "metadata": {},
     "output_type": "execute_result"
    },
    {
     "data": {
      "image/png": "[encoded data removed]",
      "text/plain": [
       "<matplotlib.figure.Figure at 0x14cc5b6d0>"
      ]
     },
     "metadata": {},
     "output_type": "display_data"
    }
   ],
   "source": [
    "to_plot.cumsum().plot()"
   ]
  },
  {
   "cell_type": "code",
   "execution_count": 36,
   "metadata": {
    "collapsed": false,
    "slideshow": {
     "slide_type": "subslide"
    }
   },
   "outputs": [
    {
     "data": {
      "text/plain": [
       "<matplotlib.axes._subplots.AxesSubplot at 0x14d1109d0>"
      ]
     },
     "execution_count": 36,
     "metadata": {},
     "output_type": "execute_result"
    },
    {
     "data": {
      "image/png": "[encoded data removed]",
      "text/plain": [
       "<matplotlib.figure.Figure at 0x14cc51810>"
      ]
     },
     "metadata": {},
     "output_type": "display_data"
    }
   ],
   "source": [
    "data.groupby(['artist','timestamp']).count()['item_id'].unstack().reindex(top_artists.index).fillna(0).T.resample('M',how='sum').cumsum().plot()"
   ]
  },
  {
   "cell_type": "markdown",
   "metadata": {
    "slideshow": {
     "slide_type": "slide"
    }
   },
   "source": [
    "## But does Python do stats?"
   ]
  },
  {
   "cell_type": "code",
   "execution_count": 37,
   "metadata": {
    "collapsed": true,
    "slideshow": {
     "slide_type": "fragment"
    }
   },
   "outputs": [],
   "source": [
    "import scipy.stats as stats\n",
    "import statsmodels"
   ]
  },
  {
   "cell_type": "code",
   "execution_count": 38,
   "metadata": {
    "collapsed": false,
    "slideshow": {
     "slide_type": "subslide"
    }
   },
   "outputs": [
    {
     "data": {
      "text/html": [
       "<div>\n",
       "<table border=\"1\" class=\"dataframe\">\n",
       "  <thead>\n",
       "    <tr style=\"text-align: right;\">\n",
       "      <th></th>\n",
       "      <th>item_id</th>\n",
       "      <th>artist_id</th>\n",
       "      <th>timestamp</th>\n",
       "      <th>artist</th>\n",
       "      <th>subject</th>\n",
       "      <th>measurement</th>\n",
       "      <th>condition</th>\n",
       "    </tr>\n",
       "  </thead>\n",
       "  <tbody>\n",
       "    <tr>\n",
       "      <th>0</th>\n",
       "      <td>3623</td>\n",
       "      <td>405</td>\n",
       "      <td>2007-02-24 22:54:28</td>\n",
       "      <td>queens+of+the+stone+age</td>\n",
       "      <td>18</td>\n",
       "      <td>0.200160</td>\n",
       "      <td>a</td>\n",
       "    </tr>\n",
       "    <tr>\n",
       "      <th>1</th>\n",
       "      <td>74220</td>\n",
       "      <td>11337</td>\n",
       "      <td>2007-02-24 22:59:07</td>\n",
       "      <td>lupe+fiasco</td>\n",
       "      <td>16</td>\n",
       "      <td>0.958234</td>\n",
       "      <td>a</td>\n",
       "    </tr>\n",
       "    <tr>\n",
       "      <th>2</th>\n",
       "      <td>64735</td>\n",
       "      <td>4536</td>\n",
       "      <td>2007-02-24 23:01:54</td>\n",
       "      <td>black+eyed+peas</td>\n",
       "      <td>9</td>\n",
       "      <td>0.671806</td>\n",
       "      <td>b</td>\n",
       "    </tr>\n",
       "    <tr>\n",
       "      <th>3</th>\n",
       "      <td>2021815</td>\n",
       "      <td>42105</td>\n",
       "      <td>2007-02-25 01:55:39</td>\n",
       "      <td>aesop+rock</td>\n",
       "      <td>15</td>\n",
       "      <td>0.753624</td>\n",
       "      <td>b</td>\n",
       "    </tr>\n",
       "    <tr>\n",
       "      <th>4</th>\n",
       "      <td>39064541</td>\n",
       "      <td>3014</td>\n",
       "      <td>2007-02-25 02:00:36</td>\n",
       "      <td>at+the+drive-in</td>\n",
       "      <td>8</td>\n",
       "      <td>0.658518</td>\n",
       "      <td>a</td>\n",
       "    </tr>\n",
       "  </tbody>\n",
       "</table>\n",
       "</div>"
      ],
      "text/plain": [
       "    item_id  artist_id           timestamp                   artist  subject  \\\n",
       "0      3623        405 2007-02-24 22:54:28  queens+of+the+stone+age       18   \n",
       "1     74220      11337 2007-02-24 22:59:07              lupe+fiasco       16   \n",
       "2     64735       4536 2007-02-24 23:01:54          black+eyed+peas        9   \n",
       "3   2021815      42105 2007-02-25 01:55:39               aesop+rock       15   \n",
       "4  39064541       3014 2007-02-25 02:00:36          at+the+drive-in        8   \n",
       "\n",
       "   measurement condition  \n",
       "0     0.200160         a  \n",
       "1     0.958234         a  \n",
       "2     0.671806         b  \n",
       "3     0.753624         b  \n",
       "4     0.658518         a  "
      ]
     },
     "execution_count": 38,
     "metadata": {},
     "output_type": "execute_result"
    }
   ],
   "source": [
    "data['subject'] = np.random.random_integers(0,19,len(data))\n",
    "data['measurement'] = np.random.random(len(data))\n",
    "data['condition'] = data['subject'].apply(lambda x: 'a' if x%2==0 else 'b')\n",
    "data.head()"
   ]
  },
  {
   "cell_type": "code",
   "execution_count": 39,
   "metadata": {
    "collapsed": false,
    "slideshow": {
     "slide_type": "subslide"
    }
   },
   "outputs": [
    {
     "name": "stdout",
     "output_type": "stream",
     "text": [
      "Group A\n",
      "count    29476.000000\n",
      "mean         0.500758\n",
      "std          0.289482\n",
      "min          0.000049\n",
      "25%          0.249881\n",
      "50%          0.501190\n",
      "75%          0.752262\n",
      "max          0.999988\n",
      "Name: measurement, dtype: float64\n",
      "Group B\n",
      "count    29357.000000\n",
      "mean         0.498694\n",
      "std          0.288415\n",
      "min          0.000005\n",
      "25%          0.247028\n",
      "50%          0.496558\n",
      "75%          0.746978\n",
      "max          0.999995\n",
      "Name: measurement, dtype: float64\n"
     ]
    },
    {
     "data": {
      "text/plain": [
       "Ttest_indResult(statistic=0.86629475221585306, pvalue=0.38633207626664212)"
      ]
     },
     "execution_count": 39,
     "metadata": {},
     "output_type": "execute_result"
    }
   ],
   "source": [
    "# A simple group comparison\n",
    "grpa =  data[data['condition']=='a']['measurement']\n",
    "grpb =  data[data['condition']=='b']['measurement']\n",
    "print 'Group A'\n",
    "print  grpa.describe()\n",
    "print 'Group B'\n",
    "print  grpb.describe()\n",
    "stats.ttest_ind(grpa,grpb)"
   ]
  },
  {
   "cell_type": "code",
   "execution_count": 40,
   "metadata": {
    "collapsed": false,
    "slideshow": {
     "slide_type": "subslide"
    }
   },
   "outputs": [
    {
     "data": {
      "text/html": [
       "<div>\n",
       "<table border=\"1\" class=\"dataframe\">\n",
       "  <thead>\n",
       "    <tr style=\"text-align: right;\">\n",
       "      <th></th>\n",
       "      <th>item_id</th>\n",
       "      <th>artist_id</th>\n",
       "      <th>timestamp</th>\n",
       "      <th>artist</th>\n",
       "      <th>subject</th>\n",
       "      <th>measurement</th>\n",
       "      <th>condition</th>\n",
       "      <th>some_IV</th>\n",
       "    </tr>\n",
       "  </thead>\n",
       "  <tbody>\n",
       "    <tr>\n",
       "      <th>0</th>\n",
       "      <td>3623</td>\n",
       "      <td>405</td>\n",
       "      <td>2007-02-24 22:54:28</td>\n",
       "      <td>queens+of+the+stone+age</td>\n",
       "      <td>18</td>\n",
       "      <td>0.200160</td>\n",
       "      <td>a</td>\n",
       "      <td>z</td>\n",
       "    </tr>\n",
       "    <tr>\n",
       "      <th>1</th>\n",
       "      <td>74220</td>\n",
       "      <td>11337</td>\n",
       "      <td>2007-02-24 22:59:07</td>\n",
       "      <td>lupe+fiasco</td>\n",
       "      <td>16</td>\n",
       "      <td>0.958234</td>\n",
       "      <td>a</td>\n",
       "      <td>y</td>\n",
       "    </tr>\n",
       "    <tr>\n",
       "      <th>2</th>\n",
       "      <td>64735</td>\n",
       "      <td>4536</td>\n",
       "      <td>2007-02-24 23:01:54</td>\n",
       "      <td>black+eyed+peas</td>\n",
       "      <td>9</td>\n",
       "      <td>0.671806</td>\n",
       "      <td>b</td>\n",
       "      <td>z</td>\n",
       "    </tr>\n",
       "    <tr>\n",
       "      <th>3</th>\n",
       "      <td>2021815</td>\n",
       "      <td>42105</td>\n",
       "      <td>2007-02-25 01:55:39</td>\n",
       "      <td>aesop+rock</td>\n",
       "      <td>15</td>\n",
       "      <td>0.753624</td>\n",
       "      <td>b</td>\n",
       "      <td>z</td>\n",
       "    </tr>\n",
       "    <tr>\n",
       "      <th>4</th>\n",
       "      <td>39064541</td>\n",
       "      <td>3014</td>\n",
       "      <td>2007-02-25 02:00:36</td>\n",
       "      <td>at+the+drive-in</td>\n",
       "      <td>8</td>\n",
       "      <td>0.658518</td>\n",
       "      <td>a</td>\n",
       "      <td>x</td>\n",
       "    </tr>\n",
       "  </tbody>\n",
       "</table>\n",
       "</div>"
      ],
      "text/plain": [
       "    item_id  artist_id           timestamp                   artist  subject  \\\n",
       "0      3623        405 2007-02-24 22:54:28  queens+of+the+stone+age       18   \n",
       "1     74220      11337 2007-02-24 22:59:07              lupe+fiasco       16   \n",
       "2     64735       4536 2007-02-24 23:01:54          black+eyed+peas        9   \n",
       "3   2021815      42105 2007-02-25 01:55:39               aesop+rock       15   \n",
       "4  39064541       3014 2007-02-25 02:00:36          at+the+drive-in        8   \n",
       "\n",
       "   measurement condition some_IV  \n",
       "0     0.200160         a       z  \n",
       "1     0.958234         a       y  \n",
       "2     0.671806         b       z  \n",
       "3     0.753624         b       z  \n",
       "4     0.658518         a       x  "
      ]
     },
     "execution_count": 40,
     "metadata": {},
     "output_type": "execute_result"
    }
   ],
   "source": [
    "data['some_IV'] = np.random.choice(['x','y','z'],len(data))\n",
    "data.head()"
   ]
  },
  {
   "cell_type": "code",
   "execution_count": 41,
   "metadata": {
    "collapsed": false,
    "slideshow": {
     "slide_type": "subslide"
    }
   },
   "outputs": [
    {
     "name": "stdout",
     "output_type": "stream",
     "text": [
      "                            df       sum_sq   mean_sq         F    PR(>F)\n",
      "C(condition)                 1     0.062658  0.062658  0.750507  0.386319\n",
      "C(some_IV)                   2     0.046413  0.023207  0.277963  0.757326\n",
      "C(condition):C(some_IV)      2     0.554453  0.277226  3.320561  0.036139\n",
      "Residual                 58827  4911.338700  0.083488       NaN       NaN\n"
     ]
    }
   ],
   "source": [
    "from statsmodels.formula.api import ols\n",
    "from statsmodels.stats.anova import anova_lm\n",
    "\n",
    "model=ols('measurement ~ C(condition) + C(some_IV) + C(condition):C(some_IV)', data=data).fit() \n",
    "print anova_lm(model)"
   ]
  },
  {
   "cell_type": "markdown",
   "metadata": {
    "slideshow": {
     "slide_type": "slide"
    }
   },
   "source": [
    "# Visualization"
   ]
  },
  {
   "cell_type": "markdown",
   "metadata": {
    "slideshow": {
     "slide_type": "slide"
    }
   },
   "source": [
    "## Matplotlib and pandas"
   ]
  },
  {
   "cell_type": "code",
   "execution_count": 42,
   "metadata": {
    "collapsed": false,
    "slideshow": {
     "slide_type": "fragment"
    }
   },
   "outputs": [
    {
     "data": {
      "text/html": [
       "<div>\n",
       "<table border=\"1\" class=\"dataframe\">\n",
       "  <thead>\n",
       "    <tr style=\"text-align: right;\">\n",
       "      <th></th>\n",
       "      <th>a</th>\n",
       "      <th>b</th>\n",
       "      <th>c</th>\n",
       "    </tr>\n",
       "  </thead>\n",
       "  <tbody>\n",
       "    <tr>\n",
       "      <th>0</th>\n",
       "      <td>0.010652</td>\n",
       "      <td>0.474971</td>\n",
       "      <td>0.219931</td>\n",
       "    </tr>\n",
       "    <tr>\n",
       "      <th>1</th>\n",
       "      <td>0.076075</td>\n",
       "      <td>0.597393</td>\n",
       "      <td>0.904103</td>\n",
       "    </tr>\n",
       "    <tr>\n",
       "      <th>2</th>\n",
       "      <td>0.153507</td>\n",
       "      <td>0.429889</td>\n",
       "      <td>0.591455</td>\n",
       "    </tr>\n",
       "    <tr>\n",
       "      <th>3</th>\n",
       "      <td>0.674325</td>\n",
       "      <td>0.589722</td>\n",
       "      <td>0.930124</td>\n",
       "    </tr>\n",
       "    <tr>\n",
       "      <th>4</th>\n",
       "      <td>0.398727</td>\n",
       "      <td>0.536206</td>\n",
       "      <td>0.251662</td>\n",
       "    </tr>\n",
       "  </tbody>\n",
       "</table>\n",
       "</div>"
      ],
      "text/plain": [
       "          a         b         c\n",
       "0  0.010652  0.474971  0.219931\n",
       "1  0.076075  0.597393  0.904103\n",
       "2  0.153507  0.429889  0.591455\n",
       "3  0.674325  0.589722  0.930124\n",
       "4  0.398727  0.536206  0.251662"
      ]
     },
     "execution_count": 42,
     "metadata": {},
     "output_type": "execute_result"
    }
   ],
   "source": [
    "from matplotlib import pyplot as plt\n",
    "%matplotlib inline\n",
    "\n",
    "example = pd.DataFrame({'a':np.random.random(10),'b':np.random.random(10),'c':np.random.random(10)})\n",
    "example.head()"
   ]
  },
  {
   "cell_type": "code",
   "execution_count": 43,
   "metadata": {
    "collapsed": false,
    "slideshow": {
     "slide_type": "subslide"
    }
   },
   "outputs": [
    {
     "data": {
      "text/plain": [
       "[<matplotlib.lines.Line2D at 0x10e4a7450>]"
      ]
     },
     "execution_count": 43,
     "metadata": {},
     "output_type": "execute_result"
    },
    {
     "data": {
      "image/png": "[encoded data removed]",
      "text/plain": [
       "<matplotlib.figure.Figure at 0x10e4a7cd0>"
      ]
     },
     "metadata": {},
     "output_type": "display_data"
    }
   ],
   "source": [
    "plt.plot(example['a'])"
   ]
  },
  {
   "cell_type": "code",
   "execution_count": 44,
   "metadata": {
    "collapsed": false,
    "slideshow": {
     "slide_type": "subslide"
    }
   },
   "outputs": [
    {
     "data": {
      "image/png": "[encoded data removed]",
      "text/plain": [
       "<matplotlib.figure.Figure at 0x10e6c99d0>"
      ]
     },
     "metadata": {},
     "output_type": "display_data"
    }
   ],
   "source": [
    "fig,ax = plt.subplots(1,1)\n",
    "for column in ['a','b','c']:\n",
    "    ax.plot(example[column])"
   ]
  },
  {
   "cell_type": "code",
   "execution_count": 45,
   "metadata": {
    "collapsed": false,
    "slideshow": {
     "slide_type": "subslide"
    }
   },
   "outputs": [
    {
     "data": {
      "text/plain": [
       "<matplotlib.legend.Legend at 0x110ec5610>"
      ]
     },
     "execution_count": 45,
     "metadata": {},
     "output_type": "execute_result"
    },
    {
     "data": {
      "image/png": "[encoded data removed]",
      "text/plain": [
       "<matplotlib.figure.Figure at 0x10befb110>"
      ]
     },
     "metadata": {},
     "output_type": "display_data"
    }
   ],
   "source": [
    "fig,ax = plt.subplots(1,1)\n",
    "for column in ['a','b','c']:\n",
    "    ax.plot(example[column],label='column '+column)\n",
    "ax.legend()"
   ]
  },
  {
   "cell_type": "code",
   "execution_count": 46,
   "metadata": {
    "collapsed": false,
    "slideshow": {
     "slide_type": "subslide"
    }
   },
   "outputs": [
    {
     "data": {
      "text/plain": [
       "<matplotlib.axes._subplots.AxesSubplot at 0x110efe490>"
      ]
     },
     "execution_count": 46,
     "metadata": {},
     "output_type": "execute_result"
    },
    {
     "data": {
      "image/png": "[encoded data removed]",
      "text/plain": [
       "<matplotlib.figure.Figure at 0x110dc3110>"
      ]
     },
     "metadata": {},
     "output_type": "display_data"
    }
   ],
   "source": [
    "example.plot()"
   ]
  },
  {
   "cell_type": "code",
   "execution_count": 47,
   "metadata": {
    "collapsed": false,
    "slideshow": {
     "slide_type": "subslide"
    }
   },
   "outputs": [
    {
     "data": {
      "text/plain": [
       "<matplotlib.axes._subplots.AxesSubplot at 0x111489b90>"
      ]
     },
     "execution_count": 47,
     "metadata": {},
     "output_type": "execute_result"
    },
    {
     "data": {
      "image/png": "[encoded data removed]",
      "text/plain": [
       "<matplotlib.figure.Figure at 0x11106ac10>"
      ]
     },
     "metadata": {},
     "output_type": "display_data"
    }
   ],
   "source": [
    "fix,axes = plt.subplots(3,3,figsize=(16,12))\n",
    "ax_iter = axes.flat\n",
    "example.plot(kind='bar',ax=ax_iter.next())\n",
    "example.plot(kind='barh',ax=ax_iter.next())\n",
    "example.plot(kind='hist',ax=ax_iter.next())\n",
    "example.plot(kind='box',ax=ax_iter.next())\n",
    "example.plot(kind='density',ax=ax_iter.next())\n",
    "example.plot(kind='area',ax=ax_iter.next())\n",
    "example.plot(kind='scatter',x='a',y='b',ax=ax_iter.next())\n",
    "example.plot(kind='pie',y='a',ax=ax_iter.next())\n",
    "example.plot(kind='hexbin',x='a',y='b',gridsize=20,ax=ax_iter.next())"
   ]
  },
  {
   "cell_type": "markdown",
   "metadata": {},
   "source": [
    "##### See http://pandas.pydata.org/pandas-docs/stable/generated/pandas.DataFrame.plot.html"
   ]
  },
  {
   "cell_type": "code",
   "execution_count": 48,
   "metadata": {
    "collapsed": false,
    "slideshow": {
     "slide_type": "slide"
    }
   },
   "outputs": [
    {
     "data": {
      "text/html": [
       "<div>\n",
       "<table border=\"1\" class=\"dataframe\">\n",
       "  <thead>\n",
       "    <tr style=\"text-align: right;\">\n",
       "      <th></th>\n",
       "      <th>condition</th>\n",
       "      <th>some_IV</th>\n",
       "      <th>measurement</th>\n",
       "    </tr>\n",
       "  </thead>\n",
       "  <tbody>\n",
       "    <tr>\n",
       "      <th>0</th>\n",
       "      <td>a</td>\n",
       "      <td>z</td>\n",
       "      <td>0.200160</td>\n",
       "    </tr>\n",
       "    <tr>\n",
       "      <th>1</th>\n",
       "      <td>a</td>\n",
       "      <td>y</td>\n",
       "      <td>0.958234</td>\n",
       "    </tr>\n",
       "    <tr>\n",
       "      <th>2</th>\n",
       "      <td>b</td>\n",
       "      <td>z</td>\n",
       "      <td>0.671806</td>\n",
       "    </tr>\n",
       "    <tr>\n",
       "      <th>3</th>\n",
       "      <td>b</td>\n",
       "      <td>z</td>\n",
       "      <td>0.753624</td>\n",
       "    </tr>\n",
       "    <tr>\n",
       "      <th>4</th>\n",
       "      <td>a</td>\n",
       "      <td>x</td>\n",
       "      <td>0.658518</td>\n",
       "    </tr>\n",
       "  </tbody>\n",
       "</table>\n",
       "</div>"
      ],
      "text/plain": [
       "  condition some_IV  measurement\n",
       "0         a       z     0.200160\n",
       "1         a       y     0.958234\n",
       "2         b       z     0.671806\n",
       "3         b       z     0.753624\n",
       "4         a       x     0.658518"
      ]
     },
     "execution_count": 48,
     "metadata": {},
     "output_type": "execute_result"
    }
   ],
   "source": [
    "example = data[['condition','some_IV','measurement']]\n",
    "example.head()"
   ]
  },
  {
   "cell_type": "code",
   "execution_count": 49,
   "metadata": {
    "collapsed": false,
    "slideshow": {
     "slide_type": "subslide"
    }
   },
   "outputs": [
    {
     "data": {
      "text/html": [
       "<div>\n",
       "<table border=\"1\" class=\"dataframe\">\n",
       "  <thead>\n",
       "    <tr style=\"text-align: right;\">\n",
       "      <th></th>\n",
       "      <th></th>\n",
       "      <th>measurement</th>\n",
       "    </tr>\n",
       "    <tr>\n",
       "      <th>condition</th>\n",
       "      <th>some_IV</th>\n",
       "      <th></th>\n",
       "    </tr>\n",
       "  </thead>\n",
       "  <tbody>\n",
       "    <tr>\n",
       "      <th rowspan=\"3\" valign=\"top\">a</th>\n",
       "      <th>x</th>\n",
       "      <td>0.501778</td>\n",
       "    </tr>\n",
       "    <tr>\n",
       "      <th>y</th>\n",
       "      <td>0.504918</td>\n",
       "    </tr>\n",
       "    <tr>\n",
       "      <th>z</th>\n",
       "      <td>0.495540</td>\n",
       "    </tr>\n",
       "    <tr>\n",
       "      <th rowspan=\"3\" valign=\"top\">b</th>\n",
       "      <th>x</th>\n",
       "      <td>0.497304</td>\n",
       "    </tr>\n",
       "    <tr>\n",
       "      <th>y</th>\n",
       "      <td>0.496837</td>\n",
       "    </tr>\n",
       "    <tr>\n",
       "      <th>z</th>\n",
       "      <td>0.501893</td>\n",
       "    </tr>\n",
       "  </tbody>\n",
       "</table>\n",
       "</div>"
      ],
      "text/plain": [
       "                   measurement\n",
       "condition some_IV             \n",
       "a         x           0.501778\n",
       "          y           0.504918\n",
       "          z           0.495540\n",
       "b         x           0.497304\n",
       "          y           0.496837\n",
       "          z           0.501893"
      ]
     },
     "execution_count": 49,
     "metadata": {},
     "output_type": "execute_result"
    }
   ],
   "source": [
    "grouped = example.groupby(['condition','some_IV'])\n",
    "avg = grouped.mean()\n",
    "avg"
   ]
  },
  {
   "cell_type": "code",
   "execution_count": 50,
   "metadata": {
    "collapsed": false,
    "slideshow": {
     "slide_type": "subslide"
    }
   },
   "outputs": [
    {
     "data": {
      "text/plain": [
       "<matplotlib.axes._subplots.AxesSubplot at 0x14cdc6e10>"
      ]
     },
     "execution_count": 50,
     "metadata": {},
     "output_type": "execute_result"
    },
    {
     "data": {
      "image/png": "[encoded data removed]",
      "text/plain": [
       "<matplotlib.figure.Figure at 0x14d8fe6d0>"
      ]
     },
     "metadata": {},
     "output_type": "display_data"
    },
    {
     "data": {
      "image/png": "[encoded data removed]",
      "text/plain": [
       "<matplotlib.figure.Figure at 0x111028b50>"
      ]
     },
     "metadata": {},
     "output_type": "display_data"
    }
   ],
   "source": [
    "avg.unstack().plot(kind='bar')\n",
    "avg.unstack()['measurement'].plot(kind='bar')"
   ]
  },
  {
   "cell_type": "code",
   "execution_count": 51,
   "metadata": {
    "collapsed": false,
    "slideshow": {
     "slide_type": "subslide"
    }
   },
   "outputs": [
    {
     "data": {
      "text/html": [
       "<div>\n",
       "<table border=\"1\" class=\"dataframe\">\n",
       "  <thead>\n",
       "    <tr style=\"text-align: right;\">\n",
       "      <th></th>\n",
       "      <th></th>\n",
       "      <th>measurement</th>\n",
       "    </tr>\n",
       "    <tr>\n",
       "      <th>condition</th>\n",
       "      <th>some_IV</th>\n",
       "      <th></th>\n",
       "    </tr>\n",
       "  </thead>\n",
       "  <tbody>\n",
       "    <tr>\n",
       "      <th rowspan=\"3\" valign=\"top\">a</th>\n",
       "      <th>x</th>\n",
       "      <td>0.002921</td>\n",
       "    </tr>\n",
       "    <tr>\n",
       "      <th>y</th>\n",
       "      <td>0.002898</td>\n",
       "    </tr>\n",
       "    <tr>\n",
       "      <th>z</th>\n",
       "      <td>0.002942</td>\n",
       "    </tr>\n",
       "    <tr>\n",
       "      <th rowspan=\"3\" valign=\"top\">b</th>\n",
       "      <th>x</th>\n",
       "      <td>0.002914</td>\n",
       "    </tr>\n",
       "    <tr>\n",
       "      <th>y</th>\n",
       "      <td>0.002922</td>\n",
       "    </tr>\n",
       "    <tr>\n",
       "      <th>z</th>\n",
       "      <td>0.002910</td>\n",
       "    </tr>\n",
       "  </tbody>\n",
       "</table>\n",
       "</div>"
      ],
      "text/plain": [
       "                   measurement\n",
       "condition some_IV             \n",
       "a         x           0.002921\n",
       "          y           0.002898\n",
       "          z           0.002942\n",
       "b         x           0.002914\n",
       "          y           0.002922\n",
       "          z           0.002910"
      ]
     },
     "execution_count": 51,
     "metadata": {},
     "output_type": "execute_result"
    }
   ],
   "source": [
    "SE = grouped.apply(lambda x: np.std(x)/np.sqrt(len(x)))\n",
    "SE"
   ]
  },
  {
   "cell_type": "code",
   "execution_count": 52,
   "metadata": {
    "collapsed": false,
    "slideshow": {
     "slide_type": "subslide"
    }
   },
   "outputs": [
    {
     "data": {
      "text/plain": [
       "<matplotlib.axes._subplots.AxesSubplot at 0x14ceef890>"
      ]
     },
     "execution_count": 52,
     "metadata": {},
     "output_type": "execute_result"
    },
    {
     "data": {
      "image/png": "[encoded data removed]",
      "text/plain": [
       "<matplotlib.figure.Figure at 0x111006290>"
      ]
     },
     "metadata": {},
     "output_type": "display_data"
    }
   ],
   "source": [
    "avg.unstack()['measurement'].plot(kind='bar',yerr=10*SE.unstack()['measurement'])"
   ]
  },
  {
   "cell_type": "code",
   "execution_count": 53,
   "metadata": {
    "collapsed": false,
    "slideshow": {
     "slide_type": "subslide"
    }
   },
   "outputs": [
    {
     "data": {
      "image/png": "[encoded data removed]",
      "text/plain": [
       "<matplotlib.figure.Figure at 0x14d1bd890>"
      ]
     },
     "metadata": {},
     "output_type": "display_data"
    }
   ],
   "source": [
    "fig,ax = plt.subplots(1,1,figsize=(8,6))\n",
    "avg.unstack()['measurement'].plot(kind='bar',yerr=10*SE.unstack()['measurement'],ax=ax,legend=None,color=['cyan','blue','purple'],alpha=0.6)\n",
    "ax.legend(bbox_to_anchor=(1.05,1))\n",
    "ax.set_ylabel('This is my dependent variable',fontdict={'fontname':'Comic Sans MS','fontsize':24})\n",
    "ax.set_title('Check out my plot!',fontdict={'fontname':'Arial','fontsize':32})\n",
    "plt.xticks([0,1],['Group A','Group B'],rotation=45)\n",
    "ax.set_xlabel('Condition',fontsize=18)\n",
    "ax.grid()\n",
    "\n",
    "ax.annotate(\"*\",(0.155,0.53),fontsize=16)\n",
    "ax.spines['top'].set_visible(False)\n",
    "ax.spines['right'].set_visible(False)\n",
    "ax.spines['left'].set_visible(False)\n"
   ]
  },
  {
   "cell_type": "code",
   "execution_count": 57,
   "metadata": {
    "collapsed": false,
    "scrolled": false,
    "slideshow": {
     "slide_type": "slide"
    }
   },
   "outputs": [
    {
     "data": {
      "text/plain": [
       "<matplotlib.text.Text at 0x10c23c2d0>"
      ]
     },
     "execution_count": 57,
     "metadata": {},
     "output_type": "execute_result"
    },
    {
     "data": {
      "image/png": "[encoded data removed]",
      "text/plain": [
       "<matplotlib.figure.Figure at 0x14d9b6910>"
      ]
     },
     "metadata": {},
     "output_type": "display_data"
    }
   ],
   "source": [
    "plot_data = data.groupby(['artist','timestamp']).count()['item_id'].unstack().reindex(top_artists.index[:3]).fillna(0).T.resample('M',how='sum')\n",
    "total_monthly_playcounts = time_indexed.resample('M',how='count')['item_id']\n",
    "\n",
    "fig,axes = plt.subplots(1,2,figsize = (18,6))\n",
    "ax_iter = axes.flat\n",
    "ax = ax_iter.next()\n",
    "plot_data.divide(total_monthly_playcounts,axis=0).plot(ax=ax,grid=True,legend=False,lw=2,colormap='rainbow')\n",
    "ax.set_ylabel('Monthly proportion of listening')\n",
    "\n",
    "ax = ax_iter.next()\n",
    "plot_data.cumsum().divide(total_monthly_playcounts.cumsum(),axis=0).plot(ax=ax,grid=True,legend=False,lw=2,colormap='rainbow')\n",
    "ax.set_ylabel('Cumulative monthly proportion of listening')\n",
    "\n",
    "leg = ax.legend()\n",
    "from urllib import unquote_plus\n",
    "text = leg.get_texts()\n",
    "for t in text:\n",
    "    t.set_text(unquote_plus(t.get_text().encode('ascii')).decode('utf8').title())\n",
    "    \n",
    "for ax in axes:\n",
    "    ax.set_axis_bgcolor('#DADADA')\n",
    "    #ax.set_ylim(0,0.22)\n",
    "\n",
    "fig.suptitle('Month-by-month and cumulative listening, top 3 artists',fontsize=20)\n",
    "\n"
   ]
  },
  {
   "cell_type": "markdown",
   "metadata": {
    "slideshow": {
     "slide_type": "slide"
    }
   },
   "source": [
    "# Digging deeper\n",
    "\n",
    "### This was just the tip of the iceberg"
   ]
  },
  {
   "cell_type": "markdown",
   "metadata": {
    "slideshow": {
     "slide_type": "fragment"
    }
   },
   "source": [
    " - there are *tons* of specially designed packages to learn about and work with"
   ]
  },
  {
   "cell_type": "markdown",
   "metadata": {
    "slideshow": {
     "slide_type": "fragment"
    }
   },
   "source": [
    " - And of course, you can always build your own!"
   ]
  },
  {
   "cell_type": "markdown",
   "metadata": {
    "slideshow": {
     "slide_type": "fragment"
    }
   },
   "source": [
    " - working with bigger data? Try Graphlab (or maybe even Apache Spark)"
   ]
  },
  {
   "cell_type": "markdown",
   "metadata": {
    "slideshow": {
     "slide_type": "slide"
    }
   },
   "source": [
    "# Want to get started using these tools for your research? \n",
    "\n",
    "### Feel free to ask me for help (follow up presentation next semester?)\n",
    "### Check out the resources on the next slide."
   ]
  },
  {
   "cell_type": "markdown",
   "metadata": {
    "slideshow": {
     "slide_type": "slide"
    }
   },
   "source": [
    "# Resources\n",
    "\n",
    " - Working with Notebooks:\n",
    "     - [Jupyter documentation](https://jupyter-notebook.readthedocs.org/en/latest/)\n",
    "     - [A gallery of interesting notebooks](https://github.com/ipython/ipython/wiki/A-gallery-of-interesting-IPython-Notebooks#general-topics-in-scientific-computing)\n",
    "     - [Markdown cheatsheet](https://github.com/adam-p/markdown-here/wiki/Markdown-Cheatsheet) (for pretty text formatting)\n",
    "     \n",
    "     \n",
    " - Plotting:\n",
    "     - [Creating publication-quality figures with Matplotlib](https://github.com/jbmouret/matplotlib_for_papers)\n",
    "     - [Pandas plotting documentation](http://pandas.pydata.org/pandas-docs/stable/visualization.html)\n",
    "     - [Pyplot documentation](http://matplotlib.org/api/pyplot_api.html)\n",
    "     - [Matplotlib colormaps](http://matplotlib.org/examples/color/colormaps_reference.html)\n",
    "     - [HTML color picker](http://www.w3schools.com/tags/ref_colorpicker.asp)\n",
    "     \n",
    "\n",
    " - Statistics:\n",
    "    - [A general tutorial on stats in Python](https://github.com/thomas-haslwanter/statsintro)\n",
    "    - [StatsModels documentation](http://statsmodels.sourceforge.net/devel/index.html)\n",
    "    \n",
    "    \n",
    " - Books:\n",
    "     - [Python for Data Analysis: Data Wrangling with Pandas, NumPy, and IPython](http://www.amazon.com/Python-Data-Analysis-Wrangling-IPython/dp/1449319793/ref=sr_1_1?ie=UTF8&qid=1445436918&sr=8-1&keywords=wes+mckinney) (By Wes McKinney, creator of Pandas!)\n",
    "     - [A general introduction to Python](http://www.amazon.com/Learning-Python-5th-Mark-Lutz/dp/1449355730/ref=sr_1_1?ie=UTF8&qid=1445437160&sr=8-1&keywords=python)\n",
    "     \n",
    "     \n",
    " - Graphlab\n",
    "     - [Documentation](https://dato.com/products/create/docs/)\n",
    "     - [Translator](https://dato.com/learn/translator/) (to help you transition from Pandas/R to Graphlab)\n",
    "     \n",
    "\n",
    " - Misc.\n",
    "      - [Python for psyhcologists](https://computingforpsychologists.wordpress.com/2013/10/17/some-python-resources/)\n",
    "      - [Sublime Text](https://www.sublimetext.com/) (When you need to code outside of a notebook, this is hands down the best editor out there)\n"
   ]
  }
 ],
 "metadata": {
  "celltoolbar": "Slideshow",
  "kernelspec": {
   "display_name": "Python 2",
   "language": "python",
   "name": "python2"
  },
  "language_info": {
   "codemirror_mode": {
    "name": "ipython",
    "version": 2
   },
   "file_extension": ".py",
   "mimetype": "text/x-python",
   "name": "python",
   "nbconvert_exporter": "python",
   "pygments_lexer": "ipython2",
   "version": "2.7.10"
  }
 },
 "nbformat": 4,
 "nbformat_minor": 0
}
